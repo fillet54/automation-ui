{
 "cells": [
  {
   "cell_type": "markdown",
   "metadata": {},
   "source": [
    "# Introduction\n",
    "This documentation will go through building up a new testing framework from the\n",
    "ground up. This will start with first describing the current framework and then\n",
    "move on to rewriting the framework.\n",
    "\n",
    "## Problem Statement\n",
    "To reimagine Requirement Verification Tests (RVTs) moving from\n",
    "an imperative style to a declarative one. What do we mean by imperative vs declarative?\n",
    "In their current form RVTs describe in extreme detail how to execute a test. \n",
    "They describe how to setup and how to configure the simulation, how to setup any \n",
    "preconditions, and when to restart a simulation. With all this detail it is usually\n",
    "difficult to clearly see which lines are the true test and which lines are purely\n",
    "setup. Additionally because starting a simulation is usually expensive tests are\n",
    "organized to reuse a simulation which couples tests together in unspecified ways. This\n",
    "means that when a test fails it can be hard to trace why. \n",
    "\n",
    "A declarative approach on the other hand would specify the conditions necessary for the\n",
    "test to be valid and let the testing apparatus to either figure out how to \n",
    "setup those conditions or to recognize when those conditions are valid and execute \n",
    "the test. \n",
    "\n",
    "This should provide atleast 3 immediate benefits:\n",
    "\n",
    "1. Quicker test execution both in development and batches as the simulation in \n",
    "   most cases will not have to be restarted.\n",
    "2. Tests that are not coupled\n",
    "3. Clearer tests. \n",
    "\n"
   ]
  },
  {
   "cell_type": "markdown",
   "metadata": {},
   "source": [
    "## RVT Today\n",
    "This section will describe what RVT is today. It will build from the ground up\n",
    "the current iteration of the automation-v2 framework for us to use as a base \n",
    "going forward.\n",
    "\n",
    "An RVT test is simply a set of single line expressions. Each line resolves to \n",
    "some code that performs some action. Here is an example RVT in the original\n",
    "rvt plain text format:\n"
   ]
  },
  {
   "cell_type": "code",
   "execution_count": null,
   "metadata": {
    "tags": [
     "hide_input"
    ]
   },
   "outputs": [],
   "source": [
    "rvt_plaintext = r'''\n",
    "# Simple Test\n",
    "StartSimulation\n",
    "\n",
    "# Precondition\n",
    "Verify Target.Power False\n",
    "SetValue Target.Power False\n",
    "\n",
    "\n",
    "# Verify power is commanded on\n",
    "# $reqid-123\n",
    "SendCmd PowerOn\n",
    "Verify Target.Power \\\n",
    "True\n",
    "\n",
    "StopSimulation\n",
    "'''"
   ]
  },
  {
   "cell_type": "markdown",
   "metadata": {},
   "source": [
    "There is also a yaml format that is supported. It provides a little more \n",
    "struture to a test but in the end it simply gets converted into a\n",
    "plaintext rvt test. One thing to note is that the yaml format started to\n",
    "introduce a concept of preconditions. This concept was never really flushed\n",
    "out. The predconditions also just get converted straight to plaintext format\n",
    "with not special logic."
   ]
  },
  {
   "cell_type": "code",
   "execution_count": null,
   "metadata": {},
   "outputs": [],
   "source": [
    "rvt_yaml = '''\n",
    "automation:\n",
    "- test: Setup\n",
    "  steps:\n",
    "  - blocks:\n",
    "    - StartSimulation\n",
    "    \n",
    "- test: \n",
    "  description: Simple Test\n",
    "  preconditions:\n",
    "  - predicates:\n",
    "    - Verify Target.Power False\n",
    "    actions:\n",
    "    - SetValue Target.Power False\n",
    "  steps:\n",
    "  - description: |\n",
    "       Verify power is on\n",
    "       $reqid-123\n",
    "    blocks:\n",
    "    - SendCmd PowerOn\n",
    "    - Verify Target.Power True\n",
    "  - blocks:\n",
    "    - StopSimulation\n",
    "'''"
   ]
  },
  {
   "cell_type": "markdown",
   "metadata": {},
   "source": [
    "Since we have two formats we will seperate the reading of the formats\n",
    "from the evaluation of the test.\n",
    "\n",
    "## Plaintext Reader\n",
    "To read a plaintext format we simply can use the exising `shlex` module to\n",
    "do most of the work. The only other noteable feature is that we support line\n",
    "continuation. To continue a line simply end the like with `\\` character."
   ]
  },
  {
   "cell_type": "code",
   "execution_count": null,
   "metadata": {},
   "outputs": [],
   "source": [
    "#export\n",
    "import shlex\n",
    "\n",
    "def read_plaintext(source):\n",
    "    \n",
    "    # handle line continuation\n",
    "    source = source.replace('\\\\\\n', '')\n",
    "\n",
    "    return [shlex.split(line) \n",
    "            for line in source.splitlines()]\n"
   ]
  },
  {
   "cell_type": "markdown",
   "metadata": {},
   "source": [
    "We now get an array of lines that are split by the rules of shell lexer. "
   ]
  },
  {
   "cell_type": "code",
   "execution_count": null,
   "metadata": {},
   "outputs": [],
   "source": [
    "read_plaintext(rvt_plaintext)"
   ]
  },
  {
   "cell_type": "markdown",
   "metadata": {},
   "source": [
    "## Yaml Reader\n",
    "Reading yaml is not much harder. We simply will iterate through each test, \n",
    "precondition, step and block and output a list of these that we have run through `shlex.split`."
   ]
  },
  {
   "cell_type": "code",
   "execution_count": null,
   "metadata": {},
   "outputs": [],
   "source": [
    "#export\n",
    "import yaml\n",
    "\n",
    "def read_yaml(source):\n",
    "    blocks = []\n",
    "    \n",
    "    def description(test_or_step):\n",
    "        desc = test_or_step.get('description', '')\n",
    "        if desc:\n",
    "            return ['# {}'.format(line) for line in desc.splitlines()]\n",
    "        return []\n",
    "    \n",
    "    tests = yaml.safe_load(source).get('automation', [])\n",
    "    for test in tests:\n",
    "        blocks += description(test)\n",
    "        for precondition in test.get('preconditions', []):\n",
    "            blocks += precondition.get('predicates', [])\n",
    "            blocks += precondition.get('actions', [])\n",
    "        for step in test.get('steps', []):\n",
    "            blocks += description(step)\n",
    "            blocks += step.get('blocks', [])\n",
    "        \n",
    "    return [shlex.split(block) for block in blocks]\n",
    "        "
   ]
  },
  {
   "cell_type": "code",
   "execution_count": null,
   "metadata": {},
   "outputs": [],
   "source": [
    "read_yaml(rvt_yaml)"
   ]
  },
  {
   "cell_type": "markdown",
   "metadata": {},
   "source": [
    "This output closely matches the plaintext output except the plaintext version has a few more empty\n",
    "lines. \n",
    "\n",
    "At this point we might might want to define a few helper methods that can filter out \n",
    "empty lines and comments"
   ]
  },
  {
   "cell_type": "code",
   "execution_count": null,
   "metadata": {},
   "outputs": [],
   "source": [
    "#export\n",
    "\n",
    "def is_empty(expr):\n",
    "    return len(expr) == 0\n",
    "\n",
    "def is_comment(expr):\n",
    "    return len(expr) and expr[0].strip().startswith('#')"
   ]
  },
  {
   "cell_type": "code",
   "execution_count": null,
   "metadata": {},
   "outputs": [],
   "source": [
    "assert is_empty([])\n",
    "assert not is_empty(['ABC', '123'])\n",
    "\n",
    "assert is_comment(['#', 'ABC'])\n",
    "assert is_comment(['#ABC', '123'])\n",
    "assert not is_comment(['ABC', '123'])"
   ]
  },
  {
   "cell_type": "markdown",
   "metadata": {},
   "source": [
    "## Building Blocks\n",
    "We can now build a function to execute a test. But what exactly are we executing?\n",
    "Currently our readers are not very sophisticated. Each expression is just a list\n",
    "of strings. This really won't let us call general python functions that expect things\n",
    "other than strings. Additionally we want use the arguments as a way to dispatch to\n",
    "the proper function.\n",
    "\n",
    "We are going to introduce the `BuildingBlock` class. Each expression in a RVT test \n",
    "will resolve to a single building block. \n"
   ]
  },
  {
   "cell_type": "code",
   "execution_count": null,
   "metadata": {},
   "outputs": [],
   "source": [
    "#export\n",
    "\n",
    "class BlockResult(object):\n",
    "    def __init__(self, passed, stdout=\"\", stderr=\"\"):\n",
    "        self.passed = passed\n",
    "        self.stdout = stdout\n",
    "        self.stderr = stderr\n",
    "        \n",
    "    def __bool__(self):\n",
    "        return self.passed\n",
    "    \n",
    "    def __str__(self):\n",
    "        return \"<BlockResult: %s, %s, %s>\" % ('PASS' if self.passed else 'FAIL', self.stdout, self.stderr)\n",
    "    \n",
    "    \n",
    "class BuildingBlock(object):\n",
    "    def name(self):\n",
    "        '''Returns the name of the building block. The name is used\n",
    "        as a first order lookup for the block'''\n",
    "        return type(self).__name__\n",
    "    \n",
    "    def check_syntax(self, *args):\n",
    "        '''Returns True if this BuildBlock can support the arguments and False otherwise'''\n",
    "        return True\n",
    "    \n",
    "    def execute(self, *args):\n",
    "        '''Executes the block. Returns a BlockResult'''\n",
    "        return BlockResult(False)\n",
    "    \n",
    " "
   ]
  },
  {
   "cell_type": "markdown",
   "metadata": {},
   "source": [
    "We need to define a few BuildingBlocks to test with.\n"
   ]
  },
  {
   "cell_type": "code",
   "execution_count": null,
   "metadata": {},
   "outputs": [],
   "source": [
    "class EchoBlock(BuildingBlock):\n",
    "    def execute(self, *args):\n",
    "        stdout = f\"{self.name()}, args: {args}\"\n",
    "        return BlockResult(True, stdout)\n",
    "        \n",
    "class StartSimulation(EchoBlock): pass\n",
    "class StopSimulation(EchoBlock):  pass\n",
    "class Verify(EchoBlock): pass\n",
    "class SetValue(EchoBlock): pass\n",
    "class SendCmd(EchoBlock): pass\n"
   ]
  },
  {
   "cell_type": "markdown",
   "metadata": {},
   "source": [
    "Additionally we need a way to find a building block given an expression."
   ]
  },
  {
   "cell_type": "code",
   "execution_count": null,
   "metadata": {},
   "outputs": [],
   "source": [
    "#export\n",
    "\n",
    "def all_subclasses(cls):\n",
    "    return set(cls.__subclasses__()).union(\n",
    "        [s for c in cls.__subclasses__() for s in all_subclasses(c)])\n",
    "\n",
    "def find_block(expr):\n",
    "    name = expr[0]\n",
    "    args = expr[1:]\n",
    "    blocks = [b() for b in all_subclasses(BuildingBlock)]\n",
    "    matching = [b for b in blocks if b.name() == name and b.check_syntax(*args)]\n",
    "    if matching:\n",
    "        return matching[0]"
   ]
  },
  {
   "cell_type": "code",
   "execution_count": null,
   "metadata": {},
   "outputs": [],
   "source": [
    "assert StartSimulation == type(find_block(['StartSimulation']))\n",
    "assert Verify == type(find_block(['Verify', '1', '2']))\n",
    "assert find_block(['Unknown']) is None"
   ]
  },
  {
   "cell_type": "markdown",
   "metadata": {},
   "source": [
    "Lets write a helper function to execute a block"
   ]
  },
  {
   "cell_type": "code",
   "execution_count": null,
   "metadata": {},
   "outputs": [],
   "source": [
    "def execute_block(expr):\n",
    "    block = find_block(expr)\n",
    "    if block:\n",
    "        args = expr[1:]\n",
    "        result = block.execute(args)\n",
    "    else:\n",
    "        result = BlockResult(False, stderr=\"Could not find block: \" + \" \".join([str(e) for e in expr])) \n",
    "    return result"
   ]
  },
  {
   "cell_type": "code",
   "execution_count": null,
   "metadata": {},
   "outputs": [],
   "source": [
    "assert execute_block(['Verify', 1, 2, 3])\n",
    "assert not execute_block(['Unknown', 1, 2, 3])"
   ]
  },
  {
   "cell_type": "markdown",
   "metadata": {},
   "source": [
    "Now we can write the executor"
   ]
  },
  {
   "cell_type": "code",
   "execution_count": null,
   "metadata": {},
   "outputs": [],
   "source": [
    "def execute_test(expressions):\n",
    "    for expr in expressions:\n",
    "        if is_empty(expr) or is_comment(expr):\n",
    "            continue\n",
    "            \n",
    "        result = execute_block(expr)\n",
    "        \n",
    "        if not result:\n",
    "            return result\n",
    "            "
   ]
  },
  {
   "cell_type": "markdown",
   "metadata": {},
   "source": [
    "Lets try and execute a test from before"
   ]
  },
  {
   "cell_type": "code",
   "execution_count": null,
   "metadata": {},
   "outputs": [],
   "source": [
    "\n",
    "assert execute_test(read_plaintext(rvt_plaintext)) is None\n",
    "assert execute_test(read_yaml(rvt_yaml)) is None\n",
    "\n",
    "failing_rvt = '''\n",
    "Verify Something\n",
    "Unknown 123\n",
    "'''\n",
    "\n",
    "assert execute_test(read_plaintext(failing_rvt)).passed == False"
   ]
  },
  {
   "cell_type": "markdown",
   "metadata": {},
   "source": [
    "# Observers\n",
    "Executing a test simply results in None if all tests have passed or a failed block result. \n",
    "We will introduce the concept of observers. We will introduce both the base `Observer` class\n",
    "and a helper `ObserverManager`."
   ]
  },
  {
   "cell_type": "code",
   "execution_count": null,
   "metadata": {},
   "outputs": [],
   "source": [
    "#export\n",
    "\n",
    "class Observer(object):\n",
    "    def on_procedure_begin(self, procedure):             pass\n",
    "    def on_step_start(self, step):                       pass\n",
    "    def on_step_end(self, result):                       pass\n",
    "    def on_procedure_end(self, result):                  pass\n",
    "    def on_comment(self, comment):                       pass\n",
    "    \n",
    "class ObserverManager(Observer):\n",
    "    def __init__(self):\n",
    "        self.observers = set()\n",
    "    \n",
    "    def add_observer(self, observer):\n",
    "        self.observers.add(observer)\n",
    "        \n",
    "    def notify(self, event, arg):\n",
    "        for observer in self.observers:\n",
    "            getattr(observer, event)(observer, arg)\n",
    "        \n",
    "    def on_procedure_begin(self, procedure):             self.notify('on_procedure_begin', procedure)\n",
    "    def on_step_start(self, step):                       self.notify('on_step_start', step)\n",
    "    def on_step_end(self, result):                       self.notify('on_step_end', result)\n",
    "    def on_procedure_end(self, result):                  self.notify('on_procedure_end', result)\n",
    "    def on_comment(self, comment):                       self.notify('on_comment', comment)\n",
    "        \n",
    "        \n",
    "    "
   ]
  },
  {
   "cell_type": "markdown",
   "metadata": {},
   "source": [
    "Lets rewrite our test executor to take an observer"
   ]
  },
  {
   "cell_type": "code",
   "execution_count": null,
   "metadata": {},
   "outputs": [],
   "source": [
    "def execute_test(expressions, observer):\n",
    "    observer.on_procedure_begin(expressions)\n",
    "\n",
    "    for expr in expressions:\n",
    "        if is_empty(expr): continue\n",
    "        if is_comment(expr):\n",
    "            observer.on_comment(expr)\n",
    "            continue\n",
    "            \n",
    "        observer.on_step_start(expr)\n",
    "        try:\n",
    "            result = execute_block(expr)\n",
    "        except Exception as e:\n",
    "            result = BlockResult(False, stderr=str(e))\n",
    "        \n",
    "        observer.on_step_end(result)\n",
    "                \n",
    "        if not result:\n",
    "            observer.on_procedure_end(result)\n",
    "            return result\n",
    "        \n",
    "    observer.on_procedure_end(True)\n",
    "            "
   ]
  },
  {
   "cell_type": "markdown",
   "metadata": {},
   "source": [
    "We can implement a simple print observer"
   ]
  },
  {
   "cell_type": "code",
   "execution_count": null,
   "metadata": {},
   "outputs": [],
   "source": [
    "class StdoutObserver(Observer):\n",
    "    def on_procedure_begin(self, procedure):\n",
    "        print(\"Test Started\")\n",
    "        \n",
    "    def on_step_start(self, step):\n",
    "        print('RUN: ' + ' '.join([str(s) for s in step]), end='')\n",
    "        \n",
    "    def on_step_end(self, result):\n",
    "        print(' [PASS]' if result else ' [FAIL]')\n",
    "        \n",
    "    def on_procedure_end(self, result):\n",
    "        if isinstance(result, BlockResult):\n",
    "            if len(result.stdout) > 0: print(result.stdout)\n",
    "            if len(result.stderr) > 0: print('ERROR:', result.stderr, sep=' ')\n",
    "        print('Test has ' + ('Passed' if result else 'Failed'))\n",
    "        \n",
    "    def on_comment(self, comment):\n",
    "        ' '.join([str(s) for s in comment])"
   ]
  },
  {
   "cell_type": "code",
   "execution_count": null,
   "metadata": {},
   "outputs": [],
   "source": [
    "observer_mgr = ObserverManager()\n",
    "observer_mgr.add_observer(StdoutObserver)\n",
    "\n",
    "# Lets run one and see if the test output is a little more interesting\n",
    "execute_test(read_plaintext(rvt_plaintext), observer_mgr)"
   ]
  },
  {
   "cell_type": "code",
   "execution_count": null,
   "metadata": {},
   "outputs": [],
   "source": [
    "\n",
    "# how about a failing test\n",
    "execute_test(read_plaintext(failing_rvt), observer_mgr)"
   ]
  },
  {
   "cell_type": "code",
   "execution_count": null,
   "metadata": {},
   "outputs": [],
   "source": []
  }
 ],
 "metadata": {
  "kernelspec": {
   "display_name": "Python 3",
   "language": "python",
   "name": "python3"
  },
  "language_info": {
   "codemirror_mode": {
    "name": "ipython",
    "version": 3
   },
   "file_extension": ".py",
   "mimetype": "text/x-python",
   "name": "python",
   "nbconvert_exporter": "python",
   "pygments_lexer": "ipython3",
   "version": "3.7.4"
  }
 },
 "nbformat": 4,
 "nbformat_minor": 4
}
