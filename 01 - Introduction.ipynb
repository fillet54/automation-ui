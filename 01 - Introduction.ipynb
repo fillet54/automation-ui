{
 "cells": [
  {
   "cell_type": "markdown",
   "metadata": {},
   "source": [
    "# Introduction\n",
    "This documentation will go through building a new testing framework from the\n",
    "ground up. This chapter will start with the problem statement, requirements\n",
    "and provide motivations for writing our own framework. Writing a framework is\n",
    "not easy and writing a framework that is adopted is nearly impossible. I hope\n",
    "that providing the key motivations and drivers up front will help drive this\n",
    "framework to success.\n",
    "\n",
    "TOC\n",
    "1. Intro\n",
    "2. Building Blocks\n",
    "3. Events\n",
    "4. Executor\n",
    "5. Text-Based Interface\n",
    "6. Graphical Interface\n",
    "\n",
    "## Problem Statement\n",
    "We need automated tests. The tests will be written for both new and old \n",
    "code and ideally run on each commit. The tests should make it easy to \n",
    "determine the source of an bug (either with the system or the test). Unit \n",
    "tests are usually the preferred choice here for the following reasons:\n",
    "\n",
    "1. Fast to execute\n",
    "2. Isolated to a single unit\n",
    "\n",
    "The rationale for \\#1 is simple. The faster the tests the easier it is to run through\n",
    "them all for each commit. \\#2 I believe is a bit trickier to understand. First isolating\n",
    "to a single unit is what makes the tests fast but it's more than that. Isolated to a \n",
    "single unit also means that when a test fails it almost certainly due to the unit under\n",
    "tests and not due to some unrelated unit. So both these reasons certaintly\n",
    "support our problem statement. But there are some disadvantages for unit tests.\n",
    "\n",
    "1. It takes time to write test cases.\n",
    "2. It's difficult to write tests for legacy code.\n",
    "3. Tests require a lot of time for maintenance.\n",
    "4. It can be challenging to test GUI code.\n",
    "5. Unit testing can't catch all errors.\n",
    "\n",
    "\\#1 and \\#3 are going to be a problem with any type of automated test strategy. \\#4 is\n",
    "not going to directly apply to our target system. That leaves us with \\#2 and \\#5. \n",
    "\\#2 is going to work directly against our goal for writing tests for our current system.\n",
    "The majority of the tests that will be written will be for legacy code. And I believe \n",
    "the style of our legacy code will make it even harder to write unit tests for them.\n",
    "The legacy code is written in large units that will require large setup clauses that\n",
    "ultimately will couple the tests to the code which will undoubtably lead to large\n",
    "occurances of false positives. \n",
    "\n",
    "\\#5 is a tradeoff of unit tests vs other tests. To get fast isolated tests you give up \n",
    "catching errors that come about when the system is integrated.\n",
    "\n",
    "I am going to suggest that unit tests are not the right choice for most of our code base \n",
    "and instead suggest we do most testing at whitebox functional level. Im not sure if this \n",
    "is a real description for testing but essentially we will test the full system running but\n",
    "allow us more freedom in how we invoke a test and determine the result. This is not to\n",
    "say the framework shouldn't allow unit tests but it won't be the immediate focus.\n",
    "\n",
    "!!! The real problem statement for the framework is here !!!\n",
    "Most testing frameworks focus on synchronous \n",
    "\n",
    "To reimagine Requirement Verification Tests (RVTs) moving from\n",
    "an imperative style to a declarative one. What do we mean by imperative vs declarative?\n",
    "In their current form RVTs describe in extreme detail how to execute a test. \n",
    "They describe how to setup and how to configure the simulation, how to setup any \n",
    "preconditions, and when to restart a simulation. With all this detail it is usually\n",
    "difficult to clearly see which lines are the true test and which lines are purely\n",
    "setup. Additionally because starting a simulation is usually expensive tests are\n",
    "organized to reuse a simulation which couples tests together in unspecified ways. This\n",
    "means that when a test fails it can be hard to trace why. \n",
    "\n",
    "Additionally since each test procedure specifies the entire lifecyle of a test\n",
    "it is hard to combine execution of tests. Authors sometimes will combine a few\n",
    "tests into one to optimize test startup but it leaves a lot to be desired. \n",
    "Specifically a lot of these tests can be (or should be) run in parallel as that\n",
    "usually how a system will ultimately be run in production. The current RVT format\n",
    "provides no facilities for allowing for parallel test execution. \n",
    "\n",
    "A declarative approach on the other hand would specify the conditions necessary for the\n",
    "test to be valid and let the testing apparatus to either figure out how to \n",
    "setup those conditions or to recognize when those conditions are valid and execute \n",
    "the test. \n",
    "\n",
    "This should provide atleast 3 immediate benefits:\n",
    "\n",
    "1. Quicker test execution both in development and batches as the simulation in \n",
    "   most cases will not have to be restarted.\n",
    "2. Tests that are not coupled\n",
    "3. Clearer tests. \n",
    "\n"
   ]
  },
  {
   "cell_type": "markdown",
   "metadata": {},
   "source": [
    "## Requirement Verification Test (RVT) Background\n",
    "This section will be a brief introduction of the current in use test framework called RVT. RVTs are the name given to the procedures executed by the Automation-V2 executor. RVT is a line-based, plaintext format with a keyword driven like syntax. \n",
    "\n",
    "RVTs are executed line by line using shell like syntax (i.e bash). This means the first space delimited token is the `command` and the rest are arguments to that `command`. In Automation-V2 the `command` is simply the name of a registered `BuildingBlock` which has a defined interface for (1) determining if it can accept the listed arguments and (2) a method to execute the `BuildingBlock`. When executed, a block will return either a `pass` or `fail` result. On `pass` the Automation-V2 executor will continue to the next line. On `fail` the framework will immediately stop the procedure execution. \n",
    "\n",
    "One last important concept of RVTs is there exists an `Observer` interface that allows listeners to register for execution events. An example of an event would be the `TestStart` and `TestCompletion` events. `Observers` allow for such things as TestReports to be created in a variety of formats. \n",
    "\n",
    "The following is a sample RVT procedure:"
   ]
  },
  {
   "cell_type": "raw",
   "metadata": {
    "tags": [
     "hide_input"
    ]
   },
   "source": [
    "# Example RVT procedure\n",
    "\n",
    "# Comments are any lines with a leading '#'\n",
    "\n",
    "# $reqid-123, $reqid-234  -- You can place requirement references in any comment\n",
    "\n",
    "# This executes the 'StartSimulation' building block passing no arguments\n",
    "StartSimulation\n",
    "\n",
    "# This executes the 'Verify' building block passing ['Target.Power', 'False'] as arguments\n",
    "Verify Target.Power False\n",
    "\n",
    "# BuildingBlocks are free to induce any side effects they want\n",
    "SetValue Target.Power True\n",
    "\n",
    "# Can use a trailing '\\' to indicate line continuation for readability\n",
    "# This will get processed as `Verify Target.Power True`\n",
    "Verify Target.Power \\\n",
    "True\n",
    "\n",
    "# Usually a cleanup step is provided.\n",
    "StopSimulation"
   ]
  },
  {
   "cell_type": "markdown",
   "metadata": {},
   "source": [
    "## Building Blocks\n",
    "The BuildingBlock interface is the core concept of the Automation-V2 interface. It\n",
    "is the main extension point used to extend the framework. It allows registering \n",
    "python code that will be executed when a line of RVT is encountered.\n",
    "\n",
    "At it's core a BuildingBlock is very simple. It has 3 parts:\n",
    "\n",
    "1. A function `name` for resolving the BuildingBlock name. Defaults to the classname\n",
    "2. A function `check_syntax` to determine if the arguments are valid for this BuildingBlock\n",
    "3. A function `execute` to run the block. Returns a `BlockResult` \n"
   ]
  },
  {
   "cell_type": "code",
   "execution_count": null,
   "metadata": {},
   "outputs": [],
   "source": [
    "# export\n",
    "\n",
    "class BuildingBlock(object):\n",
    "    ''' \n",
    "    The 'BuildingBlock' of the automation framework. Registers an function to\n",
    "    be run during text execution.\n",
    "    '''\n",
    "    def name(self):\n",
    "        '''Returns the name of the building block. The name is used\n",
    "        as a first order lookup for the block'''\n",
    "        return type(self).__name__\n",
    "    \n",
    "    def check_syntax(self, *args):\n",
    "        '''Returns True if this BuildingBlock can support the arguments and False otherwise'''\n",
    "        return True\n",
    "    \n",
    "    def execute(self, *args):\n",
    "        '''Executes the block. Returns a BlockResult'''\n",
    "        return BlockResult(False)\n",
    "    \n",
    " "
   ]
  },
  {
   "cell_type": "code",
   "execution_count": null,
   "metadata": {},
   "outputs": [],
   "source": [
    "#export\n",
    "\n",
    "class BlockResult(object):\n",
    "    '''\n",
    "    The result of executing a BuildingBlock\n",
    "    '''\n",
    "    def __init__(self, passed, stdout=\"\", stderr=\"\"):\n",
    "        self.passed = passed\n",
    "        self.stdout = stdout\n",
    "        self.stderr = stderr\n",
    "        \n",
    "    def __bool__(self):\n",
    "        return self.passed\n",
    "    \n",
    "    def __str__(self):\n",
    "        return \"<BlockResult: %s, %s, %s>\" % ('PASS' if self.passed else 'FAIL', self.stdout, self.stderr)\n",
    "    "
   ]
  },
  {
   "cell_type": "code",
   "execution_count": null,
   "metadata": {},
   "outputs": [],
   "source": [
    "# Unit tests\n",
    "class TestBlock(BuildingBlock):\n",
    "    pass\n",
    "\n",
    "class TestBlock2(BuildingBlock):\n",
    "    def name(self): return 'CustomName'\n",
    "    \n",
    "    \n",
    "assert TestBlock().name() == 'TestBlock'\n",
    "assert TestBlock2().name() == 'CustomName'"
   ]
  },
  {
   "cell_type": "markdown",
   "metadata": {},
   "source": [
    "## Observers\n",
    "Executing a test simply results in None if all tests have passed or a failed block result. \n",
    "We are going to want more detail as test executes and the `Observer` interface will give us that.\n",
    "Observers will register themselves with an `ObserverManager` and get notified when key events\n",
    "happen during test execution. One thing to note here is that we want observers to be open for extenson\n",
    "and so we will use a convention that any method that begins with an 'on_' will be a observer event. Because\n",
    "of this there is no specific Observer class as any python class with do.\n",
    "\n",
    "This means an observer can implement any number of events."
   ]
  },
  {
   "cell_type": "code",
   "execution_count": null,
   "metadata": {},
   "outputs": [],
   "source": [
    "#export\n",
    "\n",
    "from functools import partial\n",
    "  \n",
    "class Observer()\n",
    "class ObserverManager(object):\n",
    "    def __init__(self):\n",
    "        self.observers = set()\n",
    "    \n",
    "    def add_observer(self, observer):\n",
    "        self.observers.add(observer)\n",
    "        \n",
    "    def notify(self, event, *args, **kwargs):\n",
    "        for observer in self.observers:\n",
    "            if hasattr(observer, 'on_' + event):\n",
    "                getattr(observer, 'on_' + event)(observer, *args, **kwargs)\n",
    "            \n",
    "    def __getattr__(self, name):\n",
    "        if name.startswith('on_'):\n",
    "            return partial(self.notify, name[3:])\n",
    "        else:\n",
    "            raise AttributeError\n",
    "    \n",
    "    # These are provided to document the usual events.\n",
    "    # Observers are NOT limited to just these events\n",
    "    \n",
    "    def on_procedure_begin(self, *args, **kwargs):             self.notify('procedure_begin', *args, **kwargs)\n",
    "    def on_step_start(self, *args, **kwargs):                  self.notify('step_start', *args, **kwargs)\n",
    "    def on_step_end(self, *args, **kwargs):                    self.notify('step_end', *args, **kwargs)\n",
    "    def on_procedure_end(self, *args, **kwargs):               self.notify('procedure_end', *args, **kwargs)\n",
    "    def on_comment(self, *args, **kwargs):                     self.notify('comment', *args, **kwargs)\n",
    "        "
   ]
  },
  {
   "cell_type": "code",
   "execution_count": null,
   "metadata": {},
   "outputs": [],
   "source": [
    "# Unit Tests\n",
    "manager = ObserverManager()\n",
    "\n",
    "class TestObserver(object):\n",
    "    def __init__(self):\n",
    "        self.event_history = []\n",
    "        \n",
    "    def on_procedure_begin(self, *args, **kwargs):\n",
    "        self.event_history.append(('procedure_begin', args[1:], kwargs))\n",
    "\n",
    "    def on_custom_event(self, *args, **kwargs):\n",
    "        self.event_history.append(('custom_event', args[1:], kwargs))\n",
    "        \n",
    "args1,   args2   = (1, 2, 3),        ('a', 'b', 'c')\n",
    "kwargs1, kwargs2 = {'a': 1, 'b': 2}, {'1': 'a', '2': 'b'}\n",
    "\n",
    "# Setup\n",
    "observer = TestObserver()\n",
    "manager.add_observer(observer)\n",
    "\n",
    "# Execute\n",
    "manager.on_procedure_begin(*args1, **kwargs1)\n",
    "manager.on_comment()\n",
    "manager.on_custom_event(*args2, **kwargs2)\n",
    "\n",
    "# Assert\n",
    "assert observer.event_history == [('procedure_begin', args1, kwargs1), ('custom_event', args2, kwargs2)]"
   ]
  },
  {
   "cell_type": "markdown",
   "metadata": {},
   "source": [
    "Since we have two formats we will seperate the reading of the formats\n",
    "from the evaluation of the test.\n",
    "\n",
    "## Plaintext Reader\n",
    "To read a plaintext format we simply can use the exising `shlex` module to\n",
    "do most of the work. The only other noteable feature is that we support line\n",
    "continuation. To continue a line simply end the like with `\\` character."
   ]
  },
  {
   "cell_type": "code",
   "execution_count": null,
   "metadata": {},
   "outputs": [],
   "source": [
    "#export\n",
    "import shlex\n",
    "\n",
    "def read_plaintext(source):\n",
    "    \n",
    "    # handle line continuation\n",
    "    source = source.replace('\\\\\\n', '')\n",
    "\n",
    "    return [shlex.split(line) \n",
    "            for line in source.splitlines()]\n"
   ]
  },
  {
   "cell_type": "markdown",
   "metadata": {},
   "source": [
    "We now get an array of lines that are split by the rules of shell lexer. "
   ]
  },
  {
   "cell_type": "code",
   "execution_count": null,
   "metadata": {},
   "outputs": [],
   "source": [
    "read_plaintext(rvt_plaintext)"
   ]
  },
  {
   "cell_type": "code",
   "execution_count": null,
   "metadata": {},
   "outputs": [],
   "source": [
    "#export\n",
    "\n",
    "def is_empty(expr):\n",
    "    return len(expr) == 0\n",
    "\n",
    "def is_comment(expr):\n",
    "    return len(expr) and expr[0].strip().startswith('#')"
   ]
  },
  {
   "cell_type": "code",
   "execution_count": null,
   "metadata": {},
   "outputs": [],
   "source": [
    "assert is_empty([])\n",
    "assert not is_empty(['ABC', '123'])\n",
    "\n",
    "assert is_comment(['#', 'ABC'])\n",
    "assert is_comment(['#ABC', '123'])\n",
    "assert not is_comment(['ABC', '123'])"
   ]
  },
  {
   "cell_type": "markdown",
   "metadata": {},
   "source": [
    "We need to define a few BuildingBlocks to test with.\n"
   ]
  },
  {
   "cell_type": "code",
   "execution_count": null,
   "metadata": {},
   "outputs": [],
   "source": [
    "class EchoBlock(BuildingBlock):\n",
    "    def execute(self, *args):\n",
    "        stdout = f\"{self.name()}, args: {args}\"\n",
    "        return BlockResult(True, stdout)\n",
    "        \n",
    "class StartSimulation(EchoBlock): pass\n",
    "class StopSimulation(EchoBlock):  pass\n",
    "class Verify(EchoBlock): pass\n",
    "class SetValue(EchoBlock): pass\n",
    "class SendCmd(EchoBlock): pass\n"
   ]
  },
  {
   "cell_type": "markdown",
   "metadata": {},
   "source": [
    "Additionally we need a way to find a building block given an expression."
   ]
  },
  {
   "cell_type": "code",
   "execution_count": null,
   "metadata": {},
   "outputs": [],
   "source": [
    "#export\n",
    "\n",
    "def all_subclasses(cls):\n",
    "    return set(cls.__subclasses__()).union(\n",
    "        [s for c in cls.__subclasses__() for s in all_subclasses(c)])\n",
    "\n",
    "def find_block(expr):\n",
    "    name = expr[0]\n",
    "    args = expr[1:]\n",
    "    blocks = [b() for b in all_subclasses(BuildingBlock)]\n",
    "    matching = [b for b in blocks if b.name() == name and b.check_syntax(*args)]\n",
    "    if matching:\n",
    "        return matching[0]"
   ]
  },
  {
   "cell_type": "code",
   "execution_count": null,
   "metadata": {},
   "outputs": [],
   "source": [
    "assert StartSimulation == type(find_block(['StartSimulation']))\n",
    "assert Verify == type(find_block(['Verify', '1', '2']))\n",
    "assert find_block(['Unknown']) is None"
   ]
  },
  {
   "cell_type": "markdown",
   "metadata": {},
   "source": [
    "Lets write a helper function to execute a block"
   ]
  },
  {
   "cell_type": "code",
   "execution_count": null,
   "metadata": {},
   "outputs": [],
   "source": [
    "def execute_block(expr):\n",
    "    block = find_block(expr)\n",
    "    if block:\n",
    "        args = expr[1:]\n",
    "        result = block.execute(args)\n",
    "    else:\n",
    "        result = BlockResult(False, stderr=\"Could not find block: \" + \" \".join([str(e) for e in expr])) \n",
    "    return result"
   ]
  },
  {
   "cell_type": "code",
   "execution_count": null,
   "metadata": {},
   "outputs": [],
   "source": [
    "assert execute_block(['Verify', 1, 2, 3])\n",
    "assert not execute_block(['Unknown', 1, 2, 3])"
   ]
  },
  {
   "cell_type": "markdown",
   "metadata": {},
   "source": [
    "Now we can write the executor"
   ]
  },
  {
   "cell_type": "code",
   "execution_count": null,
   "metadata": {},
   "outputs": [],
   "source": [
    "def execute_test(expressions):\n",
    "    for expr in expressions:\n",
    "        if is_empty(expr) or is_comment(expr):\n",
    "            continue\n",
    "            \n",
    "        result = execute_block(expr)\n",
    "        \n",
    "        if not result:\n",
    "            return result\n",
    "            "
   ]
  },
  {
   "cell_type": "markdown",
   "metadata": {},
   "source": [
    "Lets try and execute a test from before"
   ]
  },
  {
   "cell_type": "code",
   "execution_count": null,
   "metadata": {},
   "outputs": [],
   "source": [
    "\n",
    "assert execute_test(read_plaintext(rvt_plaintext)) is None\n",
    "assert execute_test(read_yaml(rvt_yaml)) is None\n",
    "\n",
    "failing_rvt = '''\n",
    "Verify Something\n",
    "Unknown 123\n",
    "'''\n",
    "\n",
    "assert execute_test(read_plaintext(failing_rvt)).passed == False"
   ]
  },
  {
   "cell_type": "markdown",
   "metadata": {},
   "source": [
    "Lets rewrite our test executor to take an observer"
   ]
  },
  {
   "cell_type": "code",
   "execution_count": null,
   "metadata": {},
   "outputs": [],
   "source": [
    "def execute_test(expressions, observer):\n",
    "    observer.on_procedure_begin(expressions)\n",
    "\n",
    "    for expr in expressions:\n",
    "        if is_empty(expr): continue\n",
    "        if is_comment(expr):\n",
    "            observer.on_comment(expr)\n",
    "            continue\n",
    "            \n",
    "        observer.on_step_start(expr)\n",
    "        try:\n",
    "            result = execute_block(expr)\n",
    "        except Exception as e:\n",
    "            result = BlockResult(False, stderr=str(e))\n",
    "        \n",
    "        observer.on_step_end(result)\n",
    "                \n",
    "        if not result:\n",
    "            observer.on_procedure_end(result)\n",
    "            return result\n",
    "        \n",
    "    observer.on_procedure_end(True)\n",
    "            "
   ]
  },
  {
   "cell_type": "markdown",
   "metadata": {},
   "source": [
    "We can implement a simple print observer"
   ]
  },
  {
   "cell_type": "code",
   "execution_count": null,
   "metadata": {},
   "outputs": [],
   "source": [
    "class StdoutObserver(Observer):\n",
    "    def on_procedure_begin(self, procedure):\n",
    "        print(\"Test Started\")\n",
    "        \n",
    "    def on_step_start(self, step):\n",
    "        print('RUN: ' + ' '.join([str(s) for s in step]), end='')\n",
    "        \n",
    "    def on_step_end(self, result):\n",
    "        print(' [PASS]' if result else ' [FAIL]')\n",
    "        \n",
    "    def on_procedure_end(self, result):\n",
    "        if isinstance(result, BlockResult):\n",
    "            if len(result.stdout) > 0: print(result.stdout)\n",
    "            if len(result.stderr) > 0: print('ERROR:', result.stderr, sep=' ')\n",
    "        print('Test has ' + ('Passed' if result else 'Failed'))\n",
    "        \n",
    "    def on_comment(self, comment):\n",
    "        ' '.join([str(s) for s in comment])"
   ]
  },
  {
   "cell_type": "code",
   "execution_count": null,
   "metadata": {},
   "outputs": [],
   "source": [
    "observer_mgr = ObserverManager()\n",
    "observer_mgr.add_observer(StdoutObserver)\n",
    "\n",
    "# Lets run one and see if the test output is a little more interesting\n",
    "execute_test(read_plaintext(rvt_plaintext), observer_mgr)"
   ]
  },
  {
   "cell_type": "code",
   "execution_count": null,
   "metadata": {},
   "outputs": [],
   "source": [
    "\n",
    "# how about a failing test\n",
    "execute_test(read_plaintext(failing_rvt), observer_mgr)"
   ]
  },
  {
   "cell_type": "code",
   "execution_count": null,
   "metadata": {},
   "outputs": [],
   "source": []
  }
 ],
 "metadata": {
  "kernelspec": {
   "display_name": "Python 3",
   "language": "python",
   "name": "python3"
  },
  "language_info": {
   "codemirror_mode": {
    "name": "ipython",
    "version": 3
   },
   "file_extension": ".py",
   "mimetype": "text/x-python",
   "name": "python",
   "nbconvert_exporter": "python",
   "pygments_lexer": "ipython3",
   "version": "3.7.4"
  }
 },
 "nbformat": 4,
 "nbformat_minor": 4
}
