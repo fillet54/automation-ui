{
 "cells": [
  {
   "cell_type": "markdown",
   "metadata": {},
   "source": [
    "# OFP Installer\n",
    "\n",
    "\n",
    "## Config File Migration\n",
    "We propose shifting the responsibility of maintaining config files from the \n",
    "OFP team to end users. This change aims to address the tedious and error-prone\n",
    "process of users feeding back changes to the development team and waiting for\n",
    "the team to provide updated config files with each release. This process \n",
    "contains a significant lag and relies on users to merge config files, which can\n",
    "lead to errors.\n",
    "\n",
    "While the OFP team will no longer be responsible for maintaining config files,\n",
    "they will still play a role in migrating existing files to new versions. \n",
    "Additionally, a facility for generating a brand new set of configuration files\n",
    "will be provided.\n",
    "\n",
    "The migration process will follow a similar approach to database schema \n",
    "migrations. Config files will be processed through a sequence of migrations, \n",
    "each bringing them closer to the target version. This approach avoids the need \n",
    "for a single migration that could require a lot of unique migrations each time\n",
    "a new OFP version is released. Instead, at most, we will only need a single \n",
    "new migration for each OFP version.\n",
    "\n",
    "In most cases, the migration process should be seamless and require no input \n",
    "from users. However, there may be some cases where user input is required, \n",
    "such as when a new configuration field is added and the user needs to specify\n",
    "its value.\n",
    "\n",
    "Overall, this proposed approach should streamline the config file management\n",
    "process and reduce errors, while still providing a role for the OFP team in\n",
    "ensuring smooth migrations."
   ]
  },
  {
   "cell_type": "raw",
   "metadata": {},
   "source": [
    "\n",
    "Discovery => Install NEW => Migrate Config => Archive OLD\n",
    "                               |\n",
    "                                => Read => Migrate => Export => Verify"
   ]
  },
  {
   "cell_type": "markdown",
   "metadata": {},
   "source": [
    "### Input/Output Discovery\n",
    "The first step in this process is to discover the arguments needed to \n",
    "perform the install. \n",
    "\n",
    "1. Current Version\n",
    "2. Installer Version\n"
   ]
  },
  {
   "cell_type": "markdown",
   "metadata": {},
   "source": [
    "### Read Existing Config\n",
    "The config files are in a lua format. They logically consist of a set of key\n",
    "value pairs that get mapped to OFP connector values. The config\n",
    "files don't directly set connectors themselves but instead are run through\n",
    "a second `lua` file that will validate and `Put` values onto the connectors.\n",
    "\n",
    "Beause the config files are lua files and are actually run through a lua \n",
    "interpreter this poses a potential problem. If we were to just read the\n",
    "text of the lua file making some assumptions on what is expected as symbols\n",
    "(ex. `Installed`, `NotInstalled`) we could make some mistakes. To get around\n",
    "making assumptions we plan to simply use the same facilities that is used\n",
    "to read the config files in the OFP and simply have our program read directly\n",
    "from the resulting connector values. This will remove any doubt as to what the\n",
    "config file might configure and will be exactly what was configured. This\n",
    "will potentially be problematic for any `defaults` that get set when a config\n",
    "key is not provided but I believe in those cases the migration will result\n",
    "in a config file that explicitly sets each and every key.\n"
   ]
  },
  {
   "cell_type": "code",
   "execution_count": null,
   "metadata": {},
   "outputs": [],
   "source": [
    "# psuedocode like\n",
    "\n",
    "exclude_list\n",
    "\n",
    "def read(from_version, to_version):\n",
    "    cls = DispatchCLS()\n",
    "    cls.CreateComponent('FROM', 'OFP.dll', 'NEW_CONFIG')\n",
    "    cls.FROM.initialize(from_version + path_of(from_version))\n",
    "    \n",
    "    configuration = {k:v\n",
    "                    for k,v in cls.FROM.CONFIG\n",
    "                    if k not in exclude_list}\n",
    "\n",
    "    return configuration\n"
   ]
  },
  {
   "cell_type": "code",
   "execution_count": null,
   "metadata": {},
   "outputs": [],
   "source": [
    "### Migrate configuration\n"
   ]
  },
  {
   "cell_type": "code",
   "execution_count": 69,
   "metadata": {},
   "outputs": [],
   "source": [
    "class Graph:\n",
    "    def __init__(self, vertices, edges):\n",
    "        self.vertices = vertices\n",
    "        self.adj = {v:[] for v in vertices}\n",
    "        \n",
    "        for v, w in edges:\n",
    "            self.add_edge(v, w)\n",
    "\n",
    "    def add_edge(self, v, w):\n",
    "        self.adj[v].append(w)\n",
    "\n",
    "    def dfs(self, s):\n",
    "        visited = set()\n",
    "        stack = [s]\n",
    "\n",
    "        while (len(stack)):\n",
    "            s = stack.pop()\n",
    "\n",
    "            if (s not in visited):\n",
    "                print(s,end=' ')\n",
    "                visited.add(s)\n",
    "\n",
    "            for node in self.adj[s]:\n",
    "                if (node not in visited):\n",
    "                    stack.append(node)\n",
    "\n",
    "    def shortest_path(self, node1, node2):\n",
    "        path_list = [[node1]]\n",
    "        path_index = 0\n",
    "        \n",
    "        # avoid backtracking\n",
    "        visited = {node1}\n",
    "        \n",
    "        # edge case\n",
    "        if node1 == node2:\n",
    "            return path_list[0]\n",
    "        \n",
    "        # breadth first order \n",
    "        while path_index < len(path_list):\n",
    "            current_path = path_list[path_index]\n",
    "            last_node = current_path[-1]\n",
    "            next_nodes = self.adj[last_node]\n",
    "            \n",
    "            # search goal node\n",
    "            if node2 in next_nodes:\n",
    "                current_path.append(node2)\n",
    "                return current_path\n",
    "            \n",
    "            # add new paths\n",
    "            for next_node in next_nodes:\n",
    "                if next_node not in visited:\n",
    "                    new_path = current_path[:]\n",
    "                    new_path.append(next_node)\n",
    "                    path_list.append(new_path)\n",
    "                    visited.add(next_node)\n",
    "            \n",
    "            path_index += 1\n",
    "\n",
    "        # No path is found\n",
    "        return []"
   ]
  },
  {
   "cell_type": "code",
   "execution_count": 90,
   "metadata": {},
   "outputs": [
    {
     "data": {
      "text/plain": [
       "{'M1', 'M2', 'M3', 'M4', 'N1', 'N2', 'N3', 'N4', 'N5', 'N6'}"
      ]
     },
     "execution_count": 90,
     "metadata": {},
     "output_type": "execute_result"
    }
   ],
   "source": [
    "import os\n",
    "\n",
    "files = [\n",
    "    # Baseline 1\n",
    "    'M1-to-M2.py',\n",
    "    'M2-to-M3.py',\n",
    "    'M3-to-M4.py',\n",
    "    \n",
    "    # Baseline 2\n",
    "    'M2-to-N1.py',\n",
    "    'N1-to-N2.py',\n",
    "    'N2-to-N3.py',\n",
    "    'N3-to-N4.py',\n",
    "    'N4-to-N5.py',\n",
    "    'N5-to-N6.py',\n",
    "]\n",
    "\n",
    "def get_edge_from_filename(name):\n",
    "    v, w = os.path.basename(name)[:-3].split('-to-')\n",
    "    return v, w\n",
    "\n",
    "edges = [get_edge_from_filename(fname)\n",
    "        for fname in files]\n",
    "vertices = set(vertex\n",
    "               for edge in edges\n",
    "               for vertex in edge)\n",
    "\n",
    "vertices"
   ]
  },
  {
   "cell_type": "code",
   "execution_count": 91,
   "metadata": {},
   "outputs": [
    {
     "name": "stdout",
     "output_type": "stream",
     "text": [
      "M1 M2 N1 N2 N3 N4 N5 N6 M3 M4 "
     ]
    }
   ],
   "source": [
    "g = Graph(vertices, edges)\n",
    "\n",
    "g.dfs('M1')"
   ]
  },
  {
   "cell_type": "code",
   "execution_count": 92,
   "metadata": {},
   "outputs": [
    {
     "data": {
      "text/plain": [
       "['M2', 'N1', 'N2', 'N3']"
      ]
     },
     "execution_count": 92,
     "metadata": {},
     "output_type": "execute_result"
    }
   ],
   "source": [
    "migration_path = g.shortest_path('M2', 'N3')\n",
    "migration_path"
   ]
  },
  {
   "cell_type": "code",
   "execution_count": 94,
   "metadata": {},
   "outputs": [
    {
     "data": {
      "text/plain": [
       "['M2-to-N1.py', 'N1-to-N2.py', 'N2-to-N3.py']"
      ]
     },
     "execution_count": 94,
     "metadata": {},
     "output_type": "execute_result"
    }
   ],
   "source": [
    "migrations = [f'{_from}-to-{to}.py' \n",
    "              for _from, to in zip(migration_path[:-1], migration_path[1:])]\n",
    "migrations"
   ]
  },
  {
   "cell_type": "markdown",
   "metadata": {},
   "source": [
    "# Migration Graph Construction\n",
    "The migration scripts will be located on disk with the following format:\n",
    "\n",
    "```\n",
    "<from versions>_<to version>.py\n",
    "```\n",
    "\n",
    "an example would be `v1_v2.py` would represent the migrations from `v1` to `v2`\n",
    "\n"
   ]
  },
  {
   "cell_type": "markdown",
   "metadata": {},
   "source": [
    "## Unzip Installer\n",
    "\n",
    "```csharp\n",
    "using System.Diagnostics;\n",
    "using System.IO.Compression;\n",
    "\n",
    "//var src = @\"C:\\temp\\python310.zip\";\n",
    "var src = Process.GetCurrentProcess().MainModule.FileName;\n",
    "var dst = Environment.GetFolderPath(Environment.SpecialFolder.LocalApplicationData) + @\"\\NGC\\Installer\";\n",
    "\n",
    "if (Directory.Exists(dst))\n",
    "    Directory.Delete(dst, true);\n",
    "\n",
    "Directory.CreateDirectory(dst);\n",
    "\n",
    "\n",
    "using (var zip = ZipFile.OpenRead(src))\n",
    "{\n",
    "    foreach (ZipArchiveEntry entry in zip.Entries)\n",
    "    {\n",
    "        if (!entry.FullName.EndsWith(\".pylauncher_exe\", StringComparison.OrdinalIgnoreCase) &&\n",
    "            !entry.FullName.EndsWith(@\"\\\") &&\n",
    "            !entry.FullName.EndsWith(@\"/\"))\n",
    "        { \n",
    "            // Gets the full path to ensure that relative segments are removed.\n",
    "            string destinationPath = Path.GetFullPath(Path.Combine(dst, entry.FullName));\n",
    "\n",
    "            // Ordinal match is safest, case-sensitive volumes can be mounted within volumes that\n",
    "            // are case-insensitive.\n",
    "            if (destinationPath.StartsWith(dst, StringComparison.Ordinal))\n",
    "            {\n",
    "                Directory.GetParent(destinationPath).Create();\n",
    "                entry.ExtractToFile(destinationPath);\n",
    "            }\n",
    "        }\n",
    "    }\n",
    "}\n",
    "\n",
    "var pythoncmd = new ProcessStartInfo\n",
    "{\n",
    "    FileName = dst + @\"\\pythonw.exe\",\n",
    "    Arguments = $\"-m startup\"\n",
    "};\n",
    "Process.Start(pythoncmd);\n",
    "```"
   ]
  },
  {
   "cell_type": "markdown",
   "metadata": {},
   "source": [
    "This will take the launcher and zip file and combine them"
   ]
  },
  {
   "cell_type": "code",
   "execution_count": null,
   "metadata": {},
   "outputs": [],
   "source": [
    "from pathlib import Path\n",
    "from zipfile import ZipFile, ZIP_STORED, ZIP_DEFLATED\n",
    "\n",
    "scriptdir = Path(__file__).resolve().parent\n",
    "exepath = scriptdir / 'pylauncher.exe'\n",
    "distpath = scriptdir / 'python310.zip'\n",
    "outpath = scriptdir / 'installer.exe'\n",
    "\n",
    "def create_installer():\n",
    "    # Creating zipfile with exe not compressed\n",
    "    # We are simply trying to add enough space for\n",
    "    # the launcher. The zip container format will add some \n",
    "    # header information to the file so we will have more\n",
    "    # room than we need.\n",
    "    with ZipFile(outpath, mode='w', compression=ZIP_STORED) as zip:\n",
    "        zip.write(exepath, arcname='.pylauncher_exe')\n",
    "    \n",
    "    # Now we need to merge the python embedded distribution with\n",
    "    # our source\n",
    "    with ZipFile(distpath, mode='r') as inzip, \\\n",
    "        ZipFile(outpath, mode='a', compression=ZIP_DEFLATED) as outzip:\n",
    "        for name in inzip.namelist():\n",
    "            outzip.writestr(name, inzip.open(name).read())\n",
    "    \n",
    "    # Finally we need to add our launcher on top of our archive\n",
    "    with  open(exepath, mode='rb') as infile, \\\n",
    "        open(outpath, mode='r+b') as outfile:\n",
    "        outfile.seek(0)\n",
    "        outfile.write(infile.read())"
   ]
  }
 ],
 "metadata": {
  "kernelspec": {
   "display_name": "Python 3",
   "language": "python",
   "name": "python3"
  },
  "language_info": {
   "codemirror_mode": {
    "name": "ipython",
    "version": 3
   },
   "file_extension": ".py",
   "mimetype": "text/x-python",
   "name": "python",
   "nbconvert_exporter": "python",
   "pygments_lexer": "ipython3",
   "version": "3.7.4"
  }
 },
 "nbformat": 4,
 "nbformat_minor": 4
}
