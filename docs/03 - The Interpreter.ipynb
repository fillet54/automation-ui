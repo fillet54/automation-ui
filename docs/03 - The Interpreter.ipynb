{
 "cells": [
  {
   "cell_type": "markdown",
   "metadata": {},
   "source": [
    "# The Interpreter\n",
    "In this chapter, we will explore the process of building an interpreter for our\n",
    "testing framework. The interpreter we build will give our tests more power than\n",
    "they currently have with the text-based RVTs (Requirements Verification Tests) that\n",
    "we use. The interpreter will be based on Lisp, and specifically influenced by the\n",
    "Clojure language.\n",
    "\n",
    "## Rationale\n",
    "You may be wondering, \"Why not just use Python instead of building an interpreter\n",
    "with Lisp?\" It's a fair question. However, one of the original goals of RVTs was to\n",
    "provide a test procedure that was easy to read. This meant that there was a goal of\n",
    "making the block syntax read like an English sentence. While we acknowledge that RVTs\n",
    "did not entirely meet this goal, we believe that it is still an important vision to\n",
    "strive for.\n",
    "\n",
    "However, we also recognize that we must be careful in designing our syntax to\n",
    "ensure that it is as simple as possible. This is where Lisp's expressive power comes\n",
    "in. Lisp is one of the most expressive programming languages available and has a\n",
    "rich history of being used for symbolic manipulation and artificial intelligence.\n",
    "Its syntax is simple and consistent, making it well-suited for expressing complex\n",
    "predicates and logical statements. The use of Lisp will enable us to create a DSL\n",
    "(Domain-Specific Language) that is both powerful and easy to read, making it a\n",
    "natural fit for our testing framework.\n",
    "\n",
    "Here is an example of verifying if a connector is equal to a value using our text-based RVT syntax:\n",
    "\n",
    "```bash\n",
    "Verify SOME.COMPONENT.MEMBER eq 10\n",
    "```\n",
    "\n",
    "And here is the equivalent syntax in our Lisp-based interpreter:\n",
    "\n",
    "```lisp\n",
    "(Verify SOME.COMPONENT.MEMBER = 10)\n",
    "```\n",
    "\n",
    "At first glance, the two examples look similar and one might even argue that the\n",
    "text-based RVT syntax reads better. However, let's consider a slightly more complex\n",
    "example where we need to verify if a connector is greater than x and less than y.\n",
    "The text-based RVT syntax would require two separate verification lines:\n",
    "\n",
    "```bash\n",
    "Verify SOME.COMPONENT.MEMBER gt 10\n",
    "Verify SOME.COMPONENT.MEMBER lt 100\n",
    "```\n",
    "\n",
    "On the other hand, the Lisp-based syntax allows us to use arbitrary predicate\n",
    "functions to express complex verification requirements in a more concise and\n",
    "readable way:\n",
    "\n",
    "```lisp\n",
    "(Verify SOME.COMPONENT.MEMBER (fn [x] (< 10 x 100)))\n",
    "```\n",
    "\n",
    "While the Lisp-based syntax may seem a little more complex, the ability to use\n",
    "arbitrary predicate functions is extremely useful. In contrast, the text-based RVTs\n",
    "only support a limited set of functions, such as `eq`, `neq`, `gt`, `gte`, `lt`,\n",
    "and `lte`. If anyone wants to add another function to the RVTs, they would need\n",
    "to modify the test framework code, which is not ideal. In practice, this can\n",
    "discourage users from adding new functions to the RVTs.\n",
    "\n",
    "In addition to the flexibility of using arbitrary predicate functions, the\n",
    "Lisp-based syntax allows us to name these functions to make them more readable.\n",
    "For example, we can define a function called is-in-valid-range as follows:\n",
    "\n",
    "```lisp\n",
    "(defn is-in-valid-range [x] (< 10 x 100))\n",
    "(Verify SOME.COMPONENT.MEMBER is-in-valid-range)\n",
    "```\n",
    "\n",
    "This makes it easier for readers of the test script to understand what the\n",
    "predicate function is doing, which can lead to more maintainable and extensible\n",
    "tests.\n"
   ]
  },
  {
   "cell_type": "markdown",
   "metadata": {},
   "source": [
    "## Syntax Overview\n",
    "Lisp syntax is quite different from C/C++ syntax, but it has its own unique \n",
    "advantages. Lisp is a functional programming language, which means that it \n",
    "treats computation as the evaluation of mathematical functions and avoids \n",
    "changing state and mutable data. Here are some key features of Lisp syntax \n",
    "that distinguish it from C/C++:\n",
    "\n",
    "1. S-expressions: Lisp syntax is based on S-expressions, which are nested \n",
    "   lists of symbols and data. S-expressions are the primary means of expressing \n",
    "   Lisp code.\n",
    "2. Prefix notation: Lisp expressions are written in prefix notation, which \n",
    "   means that the operator comes before the operands. For example, instead of\n",
    "   writing \"2 + 3\", you would write \"(+ 2 3)\".\n",
    "3. No operator precedence: In Lisp, all operators have the same precedence, \n",
    "   so parentheses are used to group expressions in the desired order. For \n",
    "   example, to evaluate \"(+ 2 (* 3 4))\", the multiplication operation is \n",
    "   evaluated first, then the addition operation.\n",
    "4. Anonymous functions: Lisp supports anonymous functions, which are functions \n",
    "   without a name. This is useful for passing functions as arguments to other \n",
    "   functions or for defining short, throwaway functions.\n",
    "5. Macros: Lisp supports macros, which are a way to programmatically generate \n",
    "   code. Macros can be used to abstract away boilerplate code, to generate \n",
    "   repetitive code, or to create domain-specific languages.\n",
    "\n",
    "Overall, Lisp syntax may take some getting used to, but its functional programming\n",
    "features make it a powerful and flexible language."
   ]
  },
  {
   "cell_type": "markdown",
   "metadata": {},
   "source": [
    "## Environment\n",
    "In order to manage symbols and function calls, we need an environment. The \n",
    "environment will be a dictionary-like object that allows us to store and retrieve \n",
    "values by their associated keys. However, our environment will have one key \n",
    "difference: it will allow us to nest an outer environment. This outer environment\n",
    "will only be used for lookups, and will allow us to modify the inner environment \n",
    "without affecting the outer environment.\n",
    "\n",
    "Our first implementation of an environment will be simple, and will allow us to \n",
    "bind a list of parameter symbols to a list of arguments. To achieve this, we have \n",
    "created a destructure method that allows us to define environments with more complex \n",
    "destructuring rules than what we are starting with. By using destructure, we can\n",
    "more easily extract and bind values from nested data structures, such as lists or \n",
    "maps, to symbols within our environment.\n",
    "\n",
    "As we build our Lisp interpreter, we will need to continue expanding our environment\n",
    "to support more complex operations and functions. However, our initial implementation\n",
    "will allow us to start building a functional testing DSL that can take advantage of\n",
    "Lisp's expressive syntax and powerful features"
   ]
  },
  {
   "cell_type": "code",
   "execution_count": null,
   "metadata": {},
   "outputs": [],
   "source": [
    "import nbloader\n",
    "nbloader.install_loader()\n",
    "\n",
    "from nbdev import patch\n",
    "\n",
    "utils = __import__('Appendix - B - Utilities')\n",
    "reader = __import__('02 - The Reader')\n",
    "\n",
    "read = reader.read\n",
    "Symbol = reader.Symbol\n",
    "List = reader.List"
   ]
  },
  {
   "cell_type": "code",
   "execution_count": null,
   "metadata": {},
   "outputs": [],
   "source": [
    "class Env(dict):\n",
    "    def __init__(self, params=(), args=(), outer=None):\n",
    "        self.outer = outer\n",
    "        self.destructure(params, args)\n",
    "        \n",
    "    def destructure(self, params, args):\n",
    "        if len(params) != len(args):\n",
    "            raise TypeError(f\"Invalid arguments[{args}] received. Expected [{params}]\")\n",
    "        self.update(zip(params, args))\n",
    "    \n",
    "    def __contains__(self, key):\n",
    "        return super().__contains__(key) or key in self.outer\n",
    "    \n",
    "    def __getitem__(self, key):\n",
    "        if super().__contains__(key):\n",
    "            return super().__getitem__(key)\n",
    "        elif self.outer is not None and key in self.outer:\n",
    "            return self.outer[key]\n",
    "        else:\n",
    "            raise KeyError(f'{key} not found.')"
   ]
  },
  {
   "cell_type": "code",
   "execution_count": null,
   "metadata": {},
   "outputs": [],
   "source": [
    "# Test\n",
    "# use the reader for our params and arguments\n",
    "\n",
    "a = Symbol('a')\n",
    "b = Symbol('b')\n",
    "x = Symbol('x')\n",
    "y = Symbol('y')\n",
    "test = Symbol('test')\n",
    "\n",
    "outer = Env(params=read('[test a b]'), args=read('[1 2 3]'))\n",
    "env = Env(params=read('[x y test]'), args=read('[4 5 6]'), outer=outer)\n",
    "\n",
    "# inner 1\n",
    "assert outer['a'] == 2\n",
    "assert outer[b] == 3\n",
    "\n",
    "# inner 2\n",
    "assert env[x] == 4\n",
    "assert env[y] == 5\n",
    "\n",
    "# outer\n",
    "assert env[a] == 2\n",
    "assert env[b] == 3\n",
    "\n",
    "\n",
    "# outer with overwrite\n",
    "assert env[test] == 6\n",
    "assert outer[test] == 1"
   ]
  },
  {
   "cell_type": "markdown",
   "metadata": {},
   "source": [
    "### Global Environment\n",
    "Our interpreter will by default start with an enviroment that is already\n",
    "loaded with a set of functions. This can be extended over time."
   ]
  },
  {
   "cell_type": "code",
   "execution_count": null,
   "metadata": {},
   "outputs": [],
   "source": [
    "import math\n",
    "import operator as op\n",
    "\n",
    "def standard_env():\n",
    "    env = Env()\n",
    "    \n",
    "    # math functions\n",
    "    env.update({k:v \n",
    "                for k,v in vars(math).items() \n",
    "                if not k.startswith('__')})\n",
    "    \n",
    "    env.update({\n",
    "        '+':op.add, '-':op.sub, '*':op.mul, '/':op.truediv, \n",
    "        '>':op.gt, '<':op.lt, '>=':op.ge, '<=':op.le, '=':op.eq, \n",
    "        'abs':     abs,\n",
    "        'append':  op.add,  \n",
    "        'apply':   lambda proc, args: proc(*args),\n",
    "        'begin':   lambda *x: x[-1],\n",
    "        'car':     lambda x: x[0],\n",
    "        'first':   lambda x: x[0],\n",
    "        'cdr':     lambda x: x[1:],\n",
    "        'rest':    lambda x: x[1:],\n",
    "        'cons':    lambda x,y: [x] + y,\n",
    "        'eq?':     op.is_, \n",
    "        'expt':    pow,\n",
    "        '=':       op.eq, \n",
    "        'count':   len, \n",
    "        'list':    lambda *x: reader.List(x), \n",
    "        'list?':   lambda x: isinstance(x, reader.List), \n",
    "        'map':     map,\n",
    "        'max':     max,\n",
    "        'min':     min,\n",
    "        'not':     op.not_,\n",
    "        'null?':   lambda x: x == [], \n",
    "        'number?': lambda x: isinstance(x, (int, float)),  \n",
    "        'print':   print,\n",
    "        'procedure?': callable,\n",
    "        'round':   round,\n",
    "        'symbol?': lambda x: isinstance(x, reader.Symbol),\n",
    "    })\n",
    "    return env\n",
    "\n",
    "global_env = standard_env()"
   ]
  },
  {
   "cell_type": "markdown",
   "metadata": {},
   "source": [
    "## Eval\n",
    "The eval function is responsible for taking in a data structure and evaluating \n",
    "expressions. It has some very simple rules:\n",
    "\n",
    "1. If the expression is a `Symbol`, the `eval` function looks up the symbol in the \n",
    "   current environment and returns the associated value.\n",
    "2. If the expression is not a `List` it is returned as is.\n",
    "3. If the expression is a `List` and the first argument is a `special form`\n",
    "   then the special form is used to evalute the expression. Special forms are \n",
    "   a set of built-in functions in Lisp that have special evaluation rules. \n",
    "   Examples include `if`, `let`, and `defn`. \n",
    "4. If the expression is a `List` and the first argument has been registered as a\n",
    "   `macro` then the registered function for that macro is used to operate on the\n",
    "   expression. Macros are functions that operate on Lisp code at compile-time and\n",
    "   generate new code to be evaluated later.\n",
    "5. Finally if the expression is a `List` the first argument is called as a function\n",
    "   with the rest of the expression as its arguments\n"
   ]
  },
  {
   "cell_type": "code",
   "execution_count": null,
   "metadata": {},
   "outputs": [],
   "source": [
    "# export\n",
    "\n",
    "special_forms = {}\n",
    "\n",
    "def eval(x, env=global_env):\n",
    "    \"Evaluate an expression in an environment.\"\n",
    "\n",
    "    # symbol reference\n",
    "    if isinstance(x, reader.Symbol):\n",
    "        return env[x]\n",
    "    \n",
    "    # constant\n",
    "    elif not isinstance(x, reader.List):\n",
    "        return x \n",
    "    \n",
    "    # special forms\n",
    "    elif x[0] in special_forms:\n",
    "        return special_forms[x[0]](x, env)\n",
    "\n",
    "    # procedure call\n",
    "    else:\n",
    "        proc = eval(x[0], env)\n",
    "        args = [eval(arg, env) for arg in x[1:]]\n",
    "        return proc(*args)"
   ]
  },
  {
   "cell_type": "code",
   "execution_count": null,
   "metadata": {},
   "outputs": [],
   "source": [
    "# Helper\n",
    "def readeval(s):\n",
    "    return eval(read(s))\n",
    "\n",
    "readeval('(print \"Hello World\")')"
   ]
  },
  {
   "cell_type": "markdown",
   "metadata": {},
   "source": [
    "## Special Forms\n",
    "The above eval function is missing any implementation of special forms.\n",
    "Special forms are special cases of syntax used in the evaluation of \n",
    "expressions. They are special in that they are not evaluated like regular \n",
    "function calls but instead are evaluated directly by the Lisp evaluator. \n",
    "Special forms are the primitive building block of lisp. Everything else\n",
    "can be built using them.\n",
    "\n",
    "### (if test then else?)\n",
    "The `if` special form that takes three arguments: `test`, `then`, `else`. \n",
    "It evaluates the first argument and if it evaluates to `false` or `nil` the \n",
    "`else` expession is evaluated and return otherwise the `then` expression is\n",
    "evaluated and returned"
   ]
  },
  {
   "cell_type": "code",
   "execution_count": null,
   "metadata": {},
   "outputs": [],
   "source": [
    "# export\n",
    "\n",
    "def if_special_form(x, env):\n",
    "    (_, test, then, _else) = x if len(x) == 4 else x + [None]\n",
    "    exp = (then if eval(test, env) else _else)\n",
    "    return eval(exp, env)\n",
    "special_forms['if'] = if_special_form"
   ]
  },
  {
   "cell_type": "code",
   "execution_count": null,
   "metadata": {},
   "outputs": [],
   "source": [
    "# test\n",
    "\n",
    "assert readeval('(if true 1)') == 1\n",
    "assert readeval('(if false 1)') == None\n",
    "assert readeval('(if true 1 2)') == 1\n",
    "assert readeval('(if false 1 2)') == 2"
   ]
  },
  {
   "cell_type": "markdown",
   "metadata": {},
   "source": [
    "### (do exprs*)\n",
    "Evaluates the expressions `exprs` in order and returns the value of the last. If no expressions are supplied, returns `nil`.\n"
   ]
  },
  {
   "cell_type": "code",
   "execution_count": null,
   "metadata": {},
   "outputs": [],
   "source": [
    "# export\n",
    "\n",
    "def do_special_form(x, env):\n",
    "    _, *expressions = x\n",
    "    last = None\n",
    "    for exp in expressions:\n",
    "        last = eval(exp, env)\n",
    "    return last\n",
    "special_forms['do'] = do_special_form"
   ]
  },
  {
   "cell_type": "code",
   "execution_count": null,
   "metadata": {},
   "outputs": [],
   "source": [
    "assert readeval('(do 1 2)') == 2\n",
    "assert readeval('(do)') == None"
   ]
  },
  {
   "cell_type": "markdown",
   "metadata": {},
   "source": [
    "### def\n"
   ]
  },
  {
   "cell_type": "code",
   "execution_count": null,
   "metadata": {},
   "outputs": [],
   "source": [
    "# export\n",
    "\n",
    "def def_special_form(x, env):\n",
    "    (_, symbol, exp) = x\n",
    "    env[symbol] = eval(exp, env)\n",
    "special_forms['def'] = def_special_form"
   ]
  },
  {
   "cell_type": "code",
   "execution_count": null,
   "metadata": {},
   "outputs": [],
   "source": [
    "# test\n",
    "\n",
    "assert readeval('''\n",
    "(do \n",
    "    (def x 1)\n",
    "    x)\n",
    "''') == 1"
   ]
  },
  {
   "cell_type": "markdown",
   "metadata": {},
   "source": [
    "### (let [ binding* ] expr*)\n",
    "Evaluates the expressions exprs in a lexical context in which the symbols \n",
    "in the binding-forms are bound to their respective init-exprs or parts \n",
    "therein. The bindings are sequential, so each binding can see the prior \n",
    "bindings. The exprs are contained in an implicit do. If a binding symbol is\n",
    "annotated with a metadata tag, the compiler will try to resolve the tag to a\n",
    "class name and presume that type in subsequent references to the binding."
   ]
  },
  {
   "cell_type": "code",
   "execution_count": null,
   "metadata": {},
   "outputs": [],
   "source": [
    "# export\n",
    "\n",
    "def let_special_form(x, env):\n",
    "    _, bindings, *exprs = x\n",
    "    env = Env(outer=env)\n",
    "    # binding to environment\n",
    "    for binding, expr in zip(bindings[::2], bindings[1::2]):\n",
    "        env[binding] = eval(expr, env)\n",
    "    return eval(List(['do'] + exprs), env)\n",
    "special_forms['let'] = let_special_form"
   ]
  },
  {
   "cell_type": "code",
   "execution_count": null,
   "metadata": {},
   "outputs": [],
   "source": [
    "# test\n",
    "\n",
    "assert readeval('''\n",
    "(let [x 2\n",
    "      y x]\n",
    "   2)\n",
    "''') == 2"
   ]
  },
  {
   "cell_type": "markdown",
   "metadata": {},
   "source": [
    "### (quote form)\n",
    "Returns form unevaluated"
   ]
  },
  {
   "cell_type": "code",
   "execution_count": null,
   "metadata": {},
   "outputs": [],
   "source": [
    "# export\n",
    "\n",
    "def quote_special_form(x, env):\n",
    "    _, form = x\n",
    "    return form\n",
    "special_forms['quote'] = quote_special_form\n"
   ]
  },
  {
   "cell_type": "code",
   "execution_count": null,
   "metadata": {},
   "outputs": [],
   "source": [
    "# test\n",
    "\n",
    "assert readeval(\"'(1 2 3)\") == [1, 2, 3]"
   ]
  },
  {
   "cell_type": "markdown",
   "metadata": {},
   "source": [
    "### (fn name? [ params* ] exprs*)"
   ]
  },
  {
   "cell_type": "code",
   "execution_count": null,
   "metadata": {},
   "outputs": [],
   "source": [
    "# export\n",
    "\n",
    "def create_function(name, params, exprs, env):\n",
    "    def fn(*args):\n",
    "        return eval(List([Symbol('do'),  *exprs]), Env(params, args, outer=env))\n",
    "    if name is not None:\n",
    "        fn.__name__ = name\n",
    "    return fn\n",
    "\n",
    "def fn_special_form(x, env):\n",
    "    _, *args = x\n",
    "    name, params, *exprs = args if len(args) >= 3 else [None] + args\n",
    "    return create_function(name, params, exprs, env)\n",
    "special_forms['fn'] = fn_special_form\n",
    "    "
   ]
  },
  {
   "cell_type": "code",
   "execution_count": null,
   "metadata": {},
   "outputs": [],
   "source": [
    "# test\n",
    "\n",
    "readeval('''\n",
    "(do\n",
    "    (def add2 (fn test [a b] (+ a b)))\n",
    "    (add2 4 5))\n",
    "''')"
   ]
  },
  {
   "cell_type": "code",
   "execution_count": null,
   "metadata": {},
   "outputs": [],
   "source": []
  }
 ],
 "metadata": {
  "kernelspec": {
   "display_name": "Python 3",
   "language": "python",
   "name": "python3"
  },
  "language_info": {
   "codemirror_mode": {
    "name": "ipython",
    "version": 3
   },
   "file_extension": ".py",
   "mimetype": "text/x-python",
   "name": "python",
   "nbconvert_exporter": "python",
   "pygments_lexer": "ipython3",
   "version": "3.7.4"
  },
  "vscode": {
   "interpreter": {
    "hash": "ad369a61c4189bc393dcba9119fa7a75829d8c71a46dcfb8f493824f227431bf"
   }
  }
 },
 "nbformat": 4,
 "nbformat_minor": 4
}
