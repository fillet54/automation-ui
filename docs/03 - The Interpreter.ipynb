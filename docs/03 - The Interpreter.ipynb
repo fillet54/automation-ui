{
 "cells": [
  {
   "attachments": {},
   "cell_type": "markdown",
   "metadata": {},
   "source": [
    "# The Interpreter\n",
    "This chapter goes over building an intepreter for our "
   ]
  }
 ],
 "metadata": {
  "kernelspec": {
   "display_name": ".venv",
   "language": "python",
   "name": "python3"
  },
  "language_info": {
   "name": "python",
   "version": "3.8.3 (tags/v3.8.3:6f8c832, May 13 2020, 22:20:19) [MSC v.1925 32 bit (Intel)]"
  },
  "orig_nbformat": 4,
  "vscode": {
   "interpreter": {
    "hash": "ad369a61c4189bc393dcba9119fa7a75829d8c71a46dcfb8f493824f227431bf"
   }
  }
 },
 "nbformat": 4,
 "nbformat_minor": 2
}
