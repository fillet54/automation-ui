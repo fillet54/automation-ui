{
 "cells": [
  {
   "cell_type": "markdown",
   "metadata": {},
   "source": [
    "# User Interface\n",
    "The user interface is expected to be a must-have for the framework. The original framework did not\n",
    "come with a user interface and even when was added later it was more focused on the test running\n",
    "aspect of the framework. \n",
    "\n",
    "The intention here is to put both requirements and tests at the forefront. Requirements being\n",
    "first class enables an experience where tests can be more tightly connected to requirements.\n"
   ]
  },
  {
   "cell_type": "code",
   "execution_count": null,
   "metadata": {},
   "outputs": [],
   "source": [
    "#export\n",
    "from flask import render_template, render_template_string, Blueprint\n",
    "import re\n",
    "from functools import reduce\n",
    "\n",
    "import nbloader\n",
    "nbloader.install_loader()\n",
    "\n",
    "from nbdev import patch\n",
    "\n",
    "utils = __import__('Appendix - B - Utilities')\n",
    "\n",
    "app = Blueprint('app', __name__)"
   ]
  },
  {
   "cell_type": "code",
   "execution_count": null,
   "metadata": {},
   "outputs": [],
   "source": [
    "# Setup the jupyter specifics\n",
    "from IPython.display import display, HTML, IFrame\n",
    "\n",
    "jupyter_flask = utils.JupyterFlask(name='automationv2', port=8846, \n",
    "                                   static_url_path=\"/static\", static_folder='public')\n",
    "\n",
    "app = utils.JupyterBlueprint(jupyter_flask, app)\n",
    "\n",
    "jupyter_flask.register_blueprint(app, url_prefix=None)"
   ]
  },
  {
   "cell_type": "markdown",
   "metadata": {},
   "source": [
    "## Layout\n",
    "The application will have a 2 column layout"
   ]
  },
  {
   "cell_type": "code",
   "execution_count": null,
   "metadata": {},
   "outputs": [],
   "source": [
    "sample_template = '''\n",
    "{% extends \"layout.html\" %}\n",
    "\n",
    "{% block menucontent %}\n",
    "<ul>\n",
    "    <li>Link 1</li>\n",
    "    <li>Link 2</li>\n",
    "</ul>\n",
    "{% endblock %}\n",
    "\n",
    "{% block content %}\n",
    "<h1>MAIN CONTENT</h1>\n",
    "{% endblock %}\n",
    "'''\n",
    "\n",
    "@app.route('/sample')\n",
    "def sample():\n",
    "    return render_template_string(sample_template)\n"
   ]
  },
  {
   "cell_type": "code",
   "execution_count": null,
   "metadata": {},
   "outputs": [],
   "source": [
    "display(IFrame(\"http://localhost:8846/sample\", width=800, height=400))"
   ]
  },
  {
   "cell_type": "code",
   "execution_count": null,
   "metadata": {},
   "outputs": [],
   "source": [
    "@app.route('/test1')\n",
    "def test1():\n",
    "    template = '''\n",
    "    {% extends \"layout.html\" %}\n",
    "    \n",
    "    {% block content %}\n",
    "        <div hx-get=\"/test2\"><h2>WELCOME HTMX</h2></div>\n",
    "    {% endblock %}\n",
    "    '''\n",
    "    return render_template_string(template)\n",
    "\n",
    "@app.route('/test2')\n",
    "def test2():\n",
    "    return b'<h1>TESTING</h1>'"
   ]
  },
  {
   "cell_type": "code",
   "execution_count": null,
   "metadata": {},
   "outputs": [],
   "source": [
    "#import http.client\n",
    "\n",
    "#conn = http.client.HTTPConnection(\"localhost:8846\")\n",
    "#conn.request(\"GET\", \"/static2/js/htmx/htmx.min.js\")\n",
    "#conn.request(\"GET\", \"/test1\")\n",
    "#res = conn.getresponse()\n",
    "\n",
    "#html = res.read().decode('utf-8')\n",
    "display(IFrame(\"http://localhost:8846/test1\", width=800, height=400))\n",
    "#print(html)"
   ]
  }
 ],
 "metadata": {
  "kernelspec": {
   "display_name": "Python 3",
   "language": "python",
   "name": "python3"
  },
  "language_info": {
   "codemirror_mode": {
    "name": "ipython",
    "version": 3
   },
   "file_extension": ".py",
   "mimetype": "text/x-python",
   "name": "python",
   "nbconvert_exporter": "python",
   "pygments_lexer": "ipython3",
   "version": "3.7.4"
  },
  "vscode": {
   "interpreter": {
    "hash": "ad369a61c4189bc393dcba9119fa7a75829d8c71a46dcfb8f493824f227431bf"
   }
  }
 },
 "nbformat": 4,
 "nbformat_minor": 4
}
