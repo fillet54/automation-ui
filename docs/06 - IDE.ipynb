{
 "cells": [
  {
   "cell_type": "markdown",
   "metadata": {},
   "source": [
    "# User Interface\n",
    "The user interface is expected to be a must-have for the framework. The original framework did not\n",
    "come with a user interface and even when was added later it was more focused on the test running\n",
    "aspect of the framework. \n",
    "\n",
    "The intention here is to put both requirements and tests at the forefront. Requirements being\n",
    "first class enables an experience where tests can be more tightly connected to requirements.\n"
   ]
  },
  {
   "cell_type": "code",
   "execution_count": 1,
   "metadata": {},
   "outputs": [],
   "source": [
    "#export\n",
    "from flask import render_template, render_template_string, Blueprint\n",
    "import re\n",
    "from functools import reduce\n",
    "\n",
    "import nbloader\n",
    "nbloader.install_loader()\n",
    "\n",
    "from nbdev import patch\n",
    "\n",
    "utils = __import__('Appendix - B - Utilities')\n",
    "\n",
    "app = Blueprint('app', __name__)"
   ]
  },
  {
   "cell_type": "code",
   "execution_count": 2,
   "metadata": {},
   "outputs": [],
   "source": [
    "# Setup the jupyter specifics\n",
    "from IPython.display import display, HTML, IFrame\n",
    "\n",
    "jupyter_flask = utils.JupyterFlask(name='automationv2', port=8846, \n",
    "                                   static_url_path=\"/static\", static_folder='public')\n",
    "\n",
    "app = utils.JupyterBlueprint(jupyter_flask, app)\n",
    "\n",
    "jupyter_flask.register_blueprint(app, url_prefix=None)"
   ]
  },
  {
   "cell_type": "markdown",
   "metadata": {},
   "source": [
    "## Layout\n",
    "The application will have a 2 column layout"
   ]
  },
  {
   "cell_type": "code",
   "execution_count": 3,
   "metadata": {},
   "outputs": [],
   "source": [
    "# export\n",
    "\n",
    "layout_template = '''<html>\n",
    "    <head>\n",
    "        <title>My App</title>\n",
    "        <meta charset=\"UTF-8\">\n",
    "        <meta name=\"viewport\" content=\"width=device-width, initial-scale=1.0\">\n",
    "    \n",
    "        <script src=\"/static/js/tailwindcss.js\"></script>\n",
    "        <script>\n",
    "            tailwind.config = {\n",
    "                theme: {\n",
    "                    extend: {\n",
    "                        colors: {\n",
    "                            ngblue: \"#00269a\"\n",
    "                        }\n",
    "                    }\n",
    "                }\n",
    "            }\n",
    "        </script>\n",
    "        <style type=\"text/tailwindcss\">\n",
    "            @layer utilities {\n",
    "            .content-auto {\n",
    "              content-visibility: auto;\n",
    "            }\n",
    "          }\n",
    "        </style>\n",
    "    </head>\n",
    "    \n",
    "    <body>\n",
    "        <div>\n",
    "            <div class=\"h-screen flex flex-col bg-gray-50\">\n",
    "                <div class=\"bg-ngblue p-2\">\n",
    "                    <img src=\"/static/img/automation-logo.png\" class=\"h-8\"></img>\n",
    "                </div>\n",
    "                <div class=\"flex-grow flex flex-row overflow-hidden justify-center\">\n",
    "                    <!-- lhs -->\n",
    "                    <div class=\"flex-shrink-0 w-1/4 p-4\">\n",
    "                        {% block menucontent %} {% endblock %}\n",
    "                    </div>\n",
    "                    <!-- center -->\n",
    "                    <div class=\"flex-1 flex flex-col bg-white\">\n",
    "                        <main class=\"flex-1 overflow-y-auto p-4\">\n",
    "                            <div class=\"relative\">\n",
    "                                {% block content %} {% endblock %}\n",
    "                            </div>\n",
    "                    </div>\n",
    "                    </main>\n",
    "                </div>\n",
    "                <!-- footer -->\n",
    "                <div class=\"p-2 text-center text-xs text-gray-500\">\n",
    "                    Copyright 2023\n",
    "                </div>\n",
    "            </div>\n",
    "        </div>\n",
    "    \n",
    "        <script src=\"/static/js/htmx/htmx.min.js\" defer></script>\n",
    "        <script src=\"/static/js/_hyperscript/_hyperscript.min.js\" defer></script>\n",
    "    </body>\n",
    "    \n",
    "</html>\n",
    "'''\n",
    "with open('templates/layout.html', 'w') as f:\n",
    "    f.write(layout_template)"
   ]
  },
  {
   "cell_type": "code",
   "execution_count": 4,
   "metadata": {},
   "outputs": [],
   "source": [
    "sample_template = '''\n",
    "{% extends \"layout.html\" %}\n",
    "\n",
    "{% block menucontent %}\n",
    "<ul>\n",
    "    <li>Link 1</li>\n",
    "    <li>Link 2</li>\n",
    "</ul>\n",
    "{% endblock %}\n",
    "\n",
    "{% block content %}\n",
    "<h1>MAIN CONTENT</h1>\n",
    "{% endblock %}\n",
    "'''\n",
    "\n",
    "@app.route('/sample')\n",
    "def sample():\n",
    "    return render_template_string(sample_template)\n"
   ]
  },
  {
   "cell_type": "code",
   "execution_count": 5,
   "metadata": {},
   "outputs": [
    {
     "data": {
      "text/html": [
       "\n",
       "        <iframe\n",
       "            width=\"800\"\n",
       "            height=\"400\"\n",
       "            src=\"http://localhost:8846/sample\"\n",
       "            frameborder=\"0\"\n",
       "            allowfullscreen\n",
       "        ></iframe>\n",
       "        "
      ],
      "text/plain": [
       "<IPython.lib.display.IFrame at 0x2ad4e654848>"
      ]
     },
     "metadata": {},
     "output_type": "display_data"
    }
   ],
   "source": [
    "display(IFrame(\"http://localhost:8846/sample\", width=800, height=400))"
   ]
  },
  {
   "cell_type": "code",
   "execution_count": 14,
   "metadata": {},
   "outputs": [],
   "source": [
    "@app.route('/test1')\n",
    "def test1():\n",
    "    return b'''<html>\n",
    "    <head>\n",
    "    <script src=\"http://localhost:8846/static/js/htmx/htmx.min.js\" type=\"application/javascript\"></script>\n",
    "    <script src=\"http://localhost:8846/static/js/tailwindcss.js\" type=\"application/javascript\"></script>\n",
    "    </head>\n",
    "    <body>\n",
    "        <div hx-get=\"/test2\">THIS IS COOL AGAIN</div>\n",
    "    </body>\n",
    "    </html>'''\n",
    "\n",
    "@app.route('/test2')\n",
    "def test2():\n",
    "    return b'YES PHILLIP, THIS IS COOL!!'"
   ]
  },
  {
   "cell_type": "code",
   "execution_count": 15,
   "metadata": {},
   "outputs": [
    {
     "data": {
      "text/html": [
       "\n",
       "        <iframe\n",
       "            width=\"800\"\n",
       "            height=\"400\"\n",
       "            src=\"http://localhost:8846/test1\"\n",
       "            frameborder=\"0\"\n",
       "            allowfullscreen\n",
       "        ></iframe>\n",
       "        "
      ],
      "text/plain": [
       "<IPython.lib.display.IFrame at 0x2ad5000e048>"
      ]
     },
     "metadata": {},
     "output_type": "display_data"
    }
   ],
   "source": [
    "#import http.client\n",
    "\n",
    "#conn = http.client.HTTPConnection(\"localhost:8846\")\n",
    "#conn.request(\"GET\", \"/static2/js/htmx/htmx.min.js\")\n",
    "#conn.request(\"GET\", \"/test1\")\n",
    "#res = conn.getresponse()\n",
    "\n",
    "#html = res.read().decode('utf-8')\n",
    "display(IFrame(\"http://localhost:8846/test1\", width=800, height=400))\n",
    "#print(html)"
   ]
  },
  {
   "cell_type": "code",
   "execution_count": null,
   "metadata": {},
   "outputs": [],
   "source": []
  }
 ],
 "metadata": {
  "kernelspec": {
   "display_name": "Python 3",
   "language": "python",
   "name": "python3"
  },
  "language_info": {
   "codemirror_mode": {
    "name": "ipython",
    "version": 3
   },
   "file_extension": ".py",
   "mimetype": "text/x-python",
   "name": "python",
   "nbconvert_exporter": "python",
   "pygments_lexer": "ipython3",
   "version": "3.7.4"
  },
  "vscode": {
   "interpreter": {
    "hash": "ad369a61c4189bc393dcba9119fa7a75829d8c71a46dcfb8f493824f227431bf"
   }
  }
 },
 "nbformat": 4,
 "nbformat_minor": 4
}
