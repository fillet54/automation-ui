{
 "cells": [
  {
   "cell_type": "markdown",
   "metadata": {},
   "source": [
    "# The Framework"
   ]
  },
  {
   "attachments": {},
   "cell_type": "markdown",
   "metadata": {},
   "source": [
    "## Building Blocks\n",
    "The BuildingBlock interface is the core concept of the Automation-V2 interface. It\n",
    "is the main extension point used to extend the framework. It allows registering \n",
    "python code that will be executed when a line of RVT is encountered.\n",
    "\n",
    "At it's core a BuildingBlock is very simple. It has 3 parts:\n",
    "\n",
    "1. A function `name` for resolving the BuildingBlock name. Defaults to the classname\n",
    "2. A function `check_syntax` to determine if the arguments are valid for this BuildingBlock\n",
    "3. A function `execute` to run the block. Returns a `BlockResult` "
   ]
  },
  {
   "cell_type": "code",
   "execution_count": 2,
   "metadata": {},
   "outputs": [],
   "source": [
    "# export\n",
    "\n",
    "class BuildingBlock:\n",
    "    ''' \n",
    "    The 'BuildingBlock' of the automation framework. Registers an function to\n",
    "    be run during text execution.\n",
    "    '''\n",
    "    def name(self):\n",
    "        '''Returns the name of the building block. The name is used\n",
    "        as a first order lookup for the block'''\n",
    "        return type(self).__name__\n",
    "    \n",
    "    def check_syntax(self, *args):\n",
    "        '''Returns True if this BuildingBlock can support the arguments and False otherwise'''\n",
    "        return True\n",
    "    \n",
    "    def execute(self, *args):\n",
    "        '''Executes the block. Returns a BlockResult'''\n",
    "        return BlockResult(False)\n",
    "    "
   ]
  },
  {
   "cell_type": "code",
   "execution_count": 3,
   "metadata": {},
   "outputs": [],
   "source": [
    "# export\n",
    "\n",
    "class BlockResult(object):\n",
    "    '''\n",
    "    The result of executing a BuildingBlock\n",
    "    '''\n",
    "    def __init__(self, passed, stdout=\"\", stderr=\"\"):\n",
    "        self.passed = passed\n",
    "        self.stdout = stdout\n",
    "        self.stderr = stderr\n",
    "        \n",
    "    def __bool__(self):\n",
    "        return self.passed\n",
    "    \n",
    "    def __str__(self):\n",
    "        return \"<BlockResult: %s, %s, %s>\" % ('PASS' if self.passed else 'FAIL', self.stdout, self.stderr)\n",
    "    "
   ]
  },
  {
   "cell_type": "code",
   "execution_count": 4,
   "metadata": {},
   "outputs": [],
   "source": [
    "# Unit tests\n",
    "\n",
    "class TestBlock(BuildingBlock):\n",
    "    pass\n",
    "\n",
    "class TestBlock2(BuildingBlock):\n",
    "    def name(self): return 'CustomName'\n",
    "    \n",
    "    \n",
    "assert TestBlock().name() == 'TestBlock'\n",
    "assert TestBlock2().name() == 'CustomName'"
   ]
  },
  {
   "attachments": {},
   "cell_type": "markdown",
   "metadata": {},
   "source": [
    "## Observers\n",
    "Executing a test simply results in None if all tests have passed or a failed block result. \n",
    "We are going to want more detail as test executes and the `Observer` interface will give us that.\n",
    "Observers will register themselves with an `ObserverManager` and get notified when key events\n",
    "happen during test execution. One thing to note here is that we want observers to be open for extenson\n",
    "and so we will use a convention that any method that begins with an 'on_' will be a observer event. Because\n",
    "of this there is no specific Observer class as any python class with do.\n",
    "\n",
    "This means an observer can implement any number of events."
   ]
  },
  {
   "cell_type": "code",
   "execution_count": 5,
   "metadata": {},
   "outputs": [],
   "source": [
    "#export\n",
    "\n",
    "from functools import partial\n",
    "  \n",
    "class Observer:\n",
    "    pass\n",
    "\n",
    "class ObserverManager:\n",
    "    def __init__(self):\n",
    "        self.observers = set()\n",
    "    \n",
    "    def add_observer(self, observer):\n",
    "        self.observers.add(observer)\n",
    "        \n",
    "    def notify(self, event, *args, **kwargs):\n",
    "        for observer in self.observers:\n",
    "            if hasattr(observer, 'on_' + event):\n",
    "                getattr(observer, 'on_' + event)(observer, *args, **kwargs)\n",
    "            \n",
    "    def __getattr__(self, name):\n",
    "        if name.startswith('on_'):\n",
    "            return partial(self.notify, name[3:])\n",
    "        else:\n",
    "            raise AttributeError\n",
    "    \n",
    "    # These are provided to document the usual events.\n",
    "    # Observers are NOT limited to just these events\n",
    "    \n",
    "    def on_procedure_begin(self, *args, **kwargs):             self.notify('procedure_begin', *args, **kwargs)\n",
    "    def on_step_start(self, *args, **kwargs):                  self.notify('step_start', *args, **kwargs)\n",
    "    def on_step_end(self, *args, **kwargs):                    self.notify('step_end', *args, **kwargs)\n",
    "    def on_procedure_end(self, *args, **kwargs):               self.notify('procedure_end', *args, **kwargs)\n",
    "    def on_comment(self, *args, **kwargs):                     self.notify('comment', *args, **kwargs)\n",
    "\n",
    "        \n",
    "# TODO: Decide what is sent in each observer. Maybe remove the need to have *args and just send in a dict"
   ]
  },
  {
   "cell_type": "code",
   "execution_count": 6,
   "metadata": {},
   "outputs": [],
   "source": [
    "# Unit Tests\n",
    "manager = ObserverManager()\n",
    "\n",
    "class TestObserver(object):\n",
    "    def __init__(self):\n",
    "        self.event_history = []\n",
    "        \n",
    "    def on_procedure_begin(self, *args, **kwargs):\n",
    "        self.event_history.append(('procedure_begin', args[1:], kwargs))\n",
    "\n",
    "    def on_custom_event(self, *args, **kwargs):\n",
    "        self.event_history.append(('custom_event', args[1:], kwargs))\n",
    "        \n",
    "args1,   args2   = (1, 2, 3),        ('a', 'b', 'c')\n",
    "kwargs1, kwargs2 = {'a': 1, 'b': 2}, {'1': 'a', '2': 'b'}\n",
    "\n",
    "# Setup\n",
    "observer = TestObserver()\n",
    "manager.add_observer(observer)\n",
    "\n",
    "# Execute\n",
    "manager.on_procedure_begin(*args1, **kwargs1)\n",
    "manager.on_comment()\n",
    "manager.on_custom_event(*args2, **kwargs2)\n",
    "\n",
    "# Assert\n",
    "assert observer.event_history == [('procedure_begin', args1, kwargs1), ('custom_event', args2, kwargs2)]"
   ]
  },
  {
   "cell_type": "code",
   "execution_count": 8,
   "metadata": {},
   "outputs": [],
   "source": [
    "# Lets create a jupyter aware observer\n",
    "\n",
    "from IPython.display import display, HTML\n",
    "import random\n",
    "\n",
    "def display_in_div(id, innerHTML, append=True):\n",
    "    append_or_set = '+=' if append else '='\n",
    "    display(HTML(f'''\n",
    "        <script id=\"to-remove\">\n",
    "            (function() {{\n",
    "                var element = document.getElementById(\"rand-{id}\")\n",
    "                const innerHTML = `{innerHTML}`\n",
    "                element.innerHTML {append_or_set} innerHTML\n",
    "            \n",
    "                // Remove ourself and the jupyter generated divs from the DOM\n",
    "                var to_remove = document.getElementById('to-remove').parentNode.parentNode;\n",
    "                to_remove.parentNode.removeChild(to_remove) \n",
    "            }})()\n",
    "        </script>\n",
    "        '''))\n",
    "    \n",
    "class JupyterObserver:\n",
    "    def __init__(self):\n",
    "        self.current_step = 0\n",
    "        self.current_procedure = 0\n",
    "        \n",
    "    def on_procedure_begin(self, *args, **kwargs):\n",
    "        self.current_procedure = random.randint(0, 4000000)\n",
    "        \n",
    "        display(HTML(f'''\n",
    "        <div id=\"rand-{self.current_procedure}\" style=\"border: solid; border-width: 1px; border-radius: 5px; padding: 5px\">\n",
    "            <h2>{kwargs[\"name\"]}</h2>\n",
    "        </div>'''))\n",
    "        \n",
    "    def on_comment(self, *args, **kwargs):\n",
    "        display_in_div(id=self.current_procedure, \n",
    "                       innerHTML=f'<div><span style=\"color: grey\">{kwargs[\"line\"]}</span></div>')\n",
    "        \n",
    "    def on_step_start(self, *args, **kwargs):\n",
    "        self.current_step = random.randint(0, 4000000)\n",
    "        display_in_div(id=self.current_procedure,\n",
    "                       innerHTML=f'''\n",
    "        <div>\n",
    "            <pre style=\"display: inline-block; background: inherit\">{kwargs[\"line\"]}</pre>\n",
    "            <div id=\"rand-{self.current_step}\" style=\"float:right; display: inline-block\">\n",
    "        </div>''')\n",
    "        \n",
    "    def on_step_end(self, *args, **kwargs):\n",
    "        result = kwargs['result']\n",
    "        result_str, color = ('PASSED', 'green') if result else ('FAILED', 'red')\n",
    "        display_in_div(id=self.current_step,\n",
    "                       innerHTML=f'<span style=\"float:right; color: {color}\">{result_str}</span>')\n",
    "            \n",
    "    def on_procedure_end(self, *args, **kwargs):\n",
    "        result = kwargs['result']\n",
    "        result_str, color = ('PASSED', 'green') if result else ('FAILED', 'red')\n",
    "        display_in_div(id=self.current_procedure,\n",
    "                       innerHTML=f'<h3>TEST <span style=\"color: {color}\">{result_str}</span></h3>')\n",
    "    "
   ]
  },
  {
   "cell_type": "code",
   "execution_count": 9,
   "metadata": {},
   "outputs": [
    {
     "data": {
      "text/html": [
       "\n",
       "        <div id=\"rand-1145219\" style=\"border: solid; border-width: 1px; border-radius: 5px; padding: 5px\">\n",
       "            <h2>Procedure1</h2>\n",
       "        </div>"
      ],
      "text/plain": [
       "<IPython.core.display.HTML object>"
      ]
     },
     "metadata": {},
     "output_type": "display_data"
    },
    {
     "data": {
      "text/html": [
       "\n",
       "        <script id=\"to-remove\">\n",
       "            (function() {\n",
       "                var element = document.getElementById(\"rand-1145219\")\n",
       "                const innerHTML = `<div><span style=\"color: grey\"># Some comment about nothing</span></div>`\n",
       "                element.innerHTML += innerHTML\n",
       "            \n",
       "                // Remove ourself and the jupyter generated divs from the DOM\n",
       "                var to_remove = document.getElementById('to-remove').parentNode.parentNode;\n",
       "                to_remove.parentNode.removeChild(to_remove) \n",
       "            })()\n",
       "        </script>\n",
       "        "
      ],
      "text/plain": [
       "<IPython.core.display.HTML object>"
      ]
     },
     "metadata": {},
     "output_type": "display_data"
    },
    {
     "data": {
      "text/html": [
       "\n",
       "        <script id=\"to-remove\">\n",
       "            (function() {\n",
       "                var element = document.getElementById(\"rand-1145219\")\n",
       "                const innerHTML = `\n",
       "        <div>\n",
       "            <pre style=\"display: inline-block; background: inherit\">Wait 10</pre>\n",
       "            <div id=\"rand-3642123\" style=\"float:right; display: inline-block\">\n",
       "        </div>`\n",
       "                element.innerHTML += innerHTML\n",
       "            \n",
       "                // Remove ourself and the jupyter generated divs from the DOM\n",
       "                var to_remove = document.getElementById('to-remove').parentNode.parentNode;\n",
       "                to_remove.parentNode.removeChild(to_remove) \n",
       "            })()\n",
       "        </script>\n",
       "        "
      ],
      "text/plain": [
       "<IPython.core.display.HTML object>"
      ]
     },
     "metadata": {},
     "output_type": "display_data"
    },
    {
     "ename": "NameError",
     "evalue": "name 'time' is not defined",
     "output_type": "error",
     "traceback": [
      "\u001b[1;31m---------------------------------------------------------------------------\u001b[0m",
      "\u001b[1;31mNameError\u001b[0m                                 Traceback (most recent call last)",
      "Cell \u001b[1;32mIn[9], line 9\u001b[0m\n\u001b[0;32m      7\u001b[0m manager\u001b[39m.\u001b[39mon_comment(line\u001b[39m=\u001b[39m\u001b[39m\"\u001b[39m\u001b[39m# Some comment about nothing\u001b[39m\u001b[39m\"\u001b[39m)\n\u001b[0;32m      8\u001b[0m manager\u001b[39m.\u001b[39mon_step_start(line\u001b[39m=\u001b[39m\u001b[39m\"\u001b[39m\u001b[39mWait 10\u001b[39m\u001b[39m\"\u001b[39m)\n\u001b[1;32m----> 9\u001b[0m time\u001b[39m.\u001b[39msleep(\u001b[39m10\u001b[39m)\n\u001b[0;32m     10\u001b[0m manager\u001b[39m.\u001b[39mon_step_end(result\u001b[39m=\u001b[39mBlockResult(\u001b[39mTrue\u001b[39;00m))\n\u001b[0;32m     11\u001b[0m manager\u001b[39m.\u001b[39mon_procedure_end(result\u001b[39m=\u001b[39mBlockResult(\u001b[39mTrue\u001b[39;00m))\n",
      "\u001b[1;31mNameError\u001b[0m: name 'time' is not defined"
     ]
    }
   ],
   "source": [
    "\n",
    "# Lets test this\n",
    "manager = ObserverManager()\n",
    "manager.add_observer(JupyterObserver())\n",
    "\n",
    "# Execute\n",
    "manager.on_procedure_begin(name=\"Procedure1\")\n",
    "manager.on_comment(line=\"# Some comment about nothing\")\n",
    "manager.on_step_start(line=\"Wait 10\")\n",
    "time.sleep(10)\n",
    "manager.on_step_end(result=BlockResult(True))\n",
    "manager.on_procedure_end(result=BlockResult(True))"
   ]
  }
 ],
 "metadata": {
  "kernelspec": {
   "display_name": ".venv",
   "language": "python",
   "name": "python3"
  },
  "language_info": {
   "codemirror_mode": {
    "name": "ipython",
    "version": 3
   },
   "file_extension": ".py",
   "mimetype": "text/x-python",
   "name": "python",
   "nbconvert_exporter": "python",
   "pygments_lexer": "ipython3",
   "version": "3.8.3"
  },
  "orig_nbformat": 4,
  "vscode": {
   "interpreter": {
    "hash": "ad369a61c4189bc393dcba9119fa7a75829d8c71a46dcfb8f493824f227431bf"
   }
  }
 },
 "nbformat": 4,
 "nbformat_minor": 2
}
