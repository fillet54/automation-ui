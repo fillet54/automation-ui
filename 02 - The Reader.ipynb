{
 "cells": [
  {
   "cell_type": "markdown",
   "metadata": {},
   "source": [
    "# The Reader\n",
    "This section will go over building a reader for the __E__xtensible __D__ata \n",
    "__N__otation (EDN). Most of the descriptions on this page are directly from \n",
    "[edn-format][1] spec. While the spec itself is pretty informal it looks to\n",
    "provide enough detail to implement a satisfactory reader.\n",
    "\n",
    "> __edn__ is an extensible data notation. A superset of edn is used by Clojure to \n",
    "> represent programs, and it is used by Datomic and other applications as a data \n",
    "> transfer format. This spec describes edn in isolation from those and other specific\n",
    "> use cases, to help facilitate implementation of readers and writers in other \n",
    "> languages, and for other uses.\n",
    "> \n",
    "> edn supports a rich set of built-in elements, and the definition of extension \n",
    "> elements in terms of the others. Users of data formats without such facilities\n",
    "> must rely on either convention or context to convey elements not included in the \n",
    "> base set. This greatly complicates application logic, betraying the apparent \n",
    "> simplicity of the format. edn is simple, yet powerful enough to meet the demands of\n",
    "> applications without convention or complex context-sensitive logic.\n",
    "> \n",
    "> edn is a system for the conveyance of values. It is not a type system, and has no \n",
    "> schemas. Nor is it a system for representing objects - there are no reference types, \n",
    "> nor should a consumer have an expectation that two equivalent elements in some body of\n",
    "> edn will yield distinct object identities when read, unless a reader implementation\n",
    "> goes out of its way to make such a promise. Thus the resulting values should be \n",
    "> considered immutable, and a reader implementation should yield values that ensure this,\n",
    "> to the extent possible.\n",
    "> \n",
    "> edn is a set of definitions for acceptable elements. A use of edn might be a stream or\n",
    "> file containing elements, but it could be as small as the conveyance of a single element\n",
    "> in e.g. an HTTP query param.\n",
    "> \n",
    "> There is no enclosing element at the top level. Thus edn is suitable for streaming and\n",
    "> interactive applications.\n",
    "> \n",
    "> The base set of elements in edn is meant to cover the basic set of data structures \n",
    "> common to most programming languages. While edn specifies how those elements are formatted\n",
    "> in text, it does not dictate the representation that results on the consumer side. A well \n",
    "> behaved reader library should endeavor to map the elements to programming language types \n",
    "> with similar semantics\n",
    "\n",
    "[1]: https://github.com/edn-format/edn"
   ]
  },
  {
   "cell_type": "markdown",
   "metadata": {},
   "source": [
    "## Notes\n",
    "The reader we are going to build will be built as a Recusrive Decent Parser. It will have support for both valid forms\n",
    "of EDN but will also support a lot of common errors which will be used to provide the user helpful error messages."
   ]
  },
  {
   "cell_type": "markdown",
   "metadata": {},
   "source": [
    "## Character Stream\n",
    "We need to first have a way to read the character stream while keeping track of where in the source we are at. Additionally\n",
    "we will need to be able to push back characters onto the stream"
   ]
  },
  {
   "cell_type": "code",
   "execution_count": 536,
   "metadata": {
    "collapsed": true,
    "jupyter": {
     "outputs_hidden": true
    }
   },
   "outputs": [],
   "source": [
    "#export\n",
    "from collections import namedtuple\n",
    "from collections.abc import Iterator\n",
    "from nbdev import patch\n",
    "from functools import reduce\n",
    "\n",
    "import re\n",
    "\n",
    "LineInfo = namedtuple('LineInfo', ['line', 'col'])\n",
    "LineRange = namedtuple('LineRange', ['start', 'end'])\n",
    "\n",
    "class Character(str):\n",
    "    def __new__(cls, val, *args, **kwargs):\n",
    "        return super().__new__(cls, val)\n",
    "\n",
    "    def __init__(self, val, line: int, col: int):\n",
    "        self.lineinfos = []\n",
    "        for v in val:\n",
    "            self.lineinfos.append(LineInfo(line, col))\n",
    "            if v == '\\n':\n",
    "                line += 1\n",
    "                col = 0\n",
    "            else:\n",
    "                col += 1\n",
    "                \n",
    "    @property\n",
    "    def col(self):\n",
    "        return self.lineinfo().col\n",
    "    \n",
    "    @property\n",
    "    def line(self):\n",
    "        return self.lineinfo().line\n",
    "        \n",
    "    def __getitem__(self, idx):\n",
    "        \n",
    "        if isinstance(idx, slice):\n",
    "            chars = [Character(str.__getitem__(self,i), *self.lineinfos[i])\n",
    "                     for i in range(*idx.indices(str.__len__(self)))]\n",
    "            return reduce(lambda s, a: s + a, chars[1:], chars[0])\n",
    "        return Character(super().__getitem__(idx), *self.lineinfos[idx])\n",
    "    \n",
    "    def lineinfo(self, idx=0):\n",
    "        return self.lineinfos[idx]\n",
    "    \n",
    "    def __add__(self, ch):\n",
    "        return Character(super().__add__(ch), *self.lineinfo())\n",
    "\n",
    "\n",
    "class PushBackCharStream:\n",
    "    def __init__(self, chars):\n",
    "        self.iterator = chars if isinstance(chars, Iterator) else iter(chars)\n",
    "        self.pushed_back = []\n",
    "        self.line = 0\n",
    "        self.col = 0\n",
    "        self.line_history = [0]\n",
    "        self.eof_info = LineInfo(0, 0)\n",
    "        self.__reached_end = False\n",
    "\n",
    "    def __iter__(self):\n",
    "        return self\n",
    "\n",
    "    def __next__(self):\n",
    "        if self.__reached_end:\n",
    "            raise StopIteration\n",
    "            \n",
    "        if self.pushed_back:\n",
    "            char = self.pushed_back.pop()\n",
    "        else:\n",
    "            try:\n",
    "                char = next(self.iterator)\n",
    "            except StopIteration:\n",
    "                self.__reached_end = True\n",
    "                return None\n",
    "\n",
    "            self.eof_info = LineInfo(self.line, self.col)\n",
    "        char = Character(char, self.line, self.col)\n",
    "\n",
    "        # advanced character position\n",
    "        if char == '\\n':\n",
    "            self.line += 1\n",
    "            self.col = 0\n",
    "        else:\n",
    "            self.col += 1\n",
    "\n",
    "        # TODO: Better explanation for this condition\n",
    "        # Save last line history for pushback\n",
    "        if len(self.line_history) <= self.line:\n",
    "            self.line_history.append(0)\n",
    "        self.line_history[self.line] = self.col\n",
    "\n",
    "        return char\n",
    "\n",
    "    def push_back_single(self, char: str):\n",
    "        if char is None:\n",
    "            return\n",
    "        \n",
    "        self.pushed_back.append(char)\n",
    "\n",
    "        # Reverse the position\n",
    "        if self.col == 0:\n",
    "            self.line -= 1\n",
    "            self.col = self.line_history[self.line]\n",
    "        else:\n",
    "            self.col -= 1\n",
    "        \n",
    "        # Reset EOF since we know we are not there anymore\n",
    "        self.__reached_end = False\n",
    "            \n",
    "    def push_back(self, chars: str):\n",
    "        if chars is None:\n",
    "            self.__reached_end = False\n",
    "            return\n",
    "        \n",
    "        for c in reversed(chars):\n",
    "            self.push_back_single(c)\n",
    "\n",
    "    @property\n",
    "    def empty(self):\n",
    "        return len(self.pushed_back) == 0 and self.__reached_end"
   ]
  },
  {
   "cell_type": "code",
   "execution_count": 537,
   "metadata": {
    "collapsed": true,
    "jupyter": {
     "outputs_hidden": true
    }
   },
   "outputs": [],
   "source": [
    "# test\n",
    "stream = PushBackCharStream('123456789')\n",
    "assert list(stream) == list(iter('123456789')) + [None], \"Pushback should mimic string Iterator with None at end\"\n",
    "\n",
    "stream = PushBackCharStream('123\\n456789')\n",
    "assert next(stream) == '1', \"Pushback should return chars in order\"\n",
    "\n",
    "assert next(stream).col == 1, \"Characters should provide column info\"\n",
    "\n",
    "assert next(stream).line == 0, \"Characters should provide line info\"\n",
    "assert next(stream).line == 0, \"Characters should provide line info\"\n",
    "assert next(stream).line == 1, \"Characters should provide line info\"\n",
    "\n",
    "stream.push_back('4')\n",
    "assert next(stream) == '4', \"Should be able to push back characters\"\n",
    "\n",
    "stream.push_back('4'), stream.push_back('\\n')\n",
    "assert next(stream).col == 3, \"Should be able to push back characters and keep column info\"\n",
    "\n",
    "assert next(stream).line == 1, \"Should be able to push back characters and keep line info\"\n",
    "stream.push_back('4'), stream.push_back('\\n')\n",
    "assert next(stream).line == 0, \"Should be able to push back characters and keep line info\"\n",
    "\n",
    "\n",
    "stream = PushBackCharStream('123')\n",
    "s = next(stream) + next(stream) + next(stream)\n",
    "stream.push_back(s)\n",
    "assert list(stream) == list(iter('123')) + [None], \"Should be able to pushback multiple\"\n",
    "\n",
    "stream = PushBackCharStream('123456789')\n",
    "char_str = next(stream) + next(stream) + next(stream) + next(stream)\n",
    "assert list(char_str[1:2]) == list(iter('2')), \"Can slice and dice\""
   ]
  },
  {
   "cell_type": "markdown",
   "metadata": {},
   "source": [
    "The above reader wont work util we implement atlest the first read symbol rule"
   ]
  },
  {
   "cell_type": "markdown",
   "metadata": {},
   "source": [
    "## EDN Spec\n",
    "This section will build up the reader. The design is to simply iteratre through all\n",
    "characters, ignore whitespace and dispatch to a reader function."
   ]
  },
  {
   "cell_type": "code",
   "execution_count": 612,
   "metadata": {
    "collapsed": true,
    "jupyter": {
     "outputs_hidden": true
    }
   },
   "outputs": [],
   "source": [
    "# export\n",
    "\n",
    "# reader states to run based on character\n",
    "dispatch = {}\n",
    "\n",
    "READ_EOF = 'READ_EOF'\n",
    "READ_FINISHED = 'READ_FINISHED'\n",
    "\n",
    "def read(stream_or_str, sentinel=None):\n",
    "    \n",
    "    if isinstance(stream_or_str, str):\n",
    "        stream = PushBackCharStream(stream_or_str)\n",
    "    else:\n",
    "        stream = stream_or_str\n",
    "    \n",
    "    for ch in stream:\n",
    "        if Character.isWhitespace(ch): continue\n",
    "        if ch is None: return READ_EOF\n",
    "        if ch == sentinel: return READ_FINISHED\n",
    "        \n",
    "        lookahead = next(stream)\n",
    "        \n",
    "        stream.push_back(lookahead)\n",
    "        stream.push_back(ch)\n",
    "\n",
    "        if Character.isNumberLiteral(ch, lookahead): \n",
    "            return read_number(stream)\n",
    "        elif ch in dispatch: \n",
    "            return dispatch[ch](stream)\n",
    "        else: \n",
    "            return read_symbol(stream)"
   ]
  },
  {
   "cell_type": "markdown",
   "metadata": {},
   "source": [
    "### General considerations\n",
    "__edn__ elements, streams and files should be encoded using UTF-8.\n",
    "\n",
    "Elements are generally separated by whitespace. Whitespace, other than within strings, is not otherwise significant, \n",
    "nor need redundant whitespace be preserved during transmissions. Commas , are also considered whitespace, other than within strings.\n",
    "\n",
    "The delimiters `{ } ( ) [ ]` need not be separated from adjacent elements by whitespace.\n",
    "\n"
   ]
  },
  {
   "cell_type": "markdown",
   "metadata": {},
   "source": [
    "### symbols\n",
    "Symbols are used to represent identifiers, and should map to something other than strings, if possible.\n",
    "\n",
    "Symbols begin with a non-numeric character and can contain alphanumeric characters and `. * + ! - _ ? $ % & = < >`. If `-`, `+` or `.` are the first character, the second character (if any) must be non-numeric. Additionally, `: #` are allowed as constituent characters in symbols other than as the first character.\n",
    "\n",
    "`/` has special meaning in symbols. It can be used once only in the middle of a symbol to separate the prefix (often a namespace) from the name, e.g. `my-namespace/foo`. `/` by itself is a legal symbol, but otherwise neither the prefix nor the name part can be empty when the symbol contains `/`.\n",
    "\n",
    "If a symbol has a prefix and `/`, the following name component should follow the first-character restrictions for symbols as a whole. This is to avoid ambiguity in reading contexts where prefixes might be presumed as implicitly included namespaces and elided thereafter.\n",
    "\n",
    "### Builtin Elements\n",
    "#### nil  \n",
    "nil represents nil, null or nothing. It should be read as an object with similar meaning on the target platform.\n",
    "\n",
    "#### booleans\n",
    "`true` and `false` should be mapped to booleans.\n",
    "\n",
    "If a platform has canonic values for `true` and `false`, it is a further semantic of booleans that all instances of `true` yield that (identical) value, and similarly for `false`."
   ]
  },
  {
   "cell_type": "code",
   "execution_count": null,
   "metadata": {
    "collapsed": true,
    "jupyter": {
     "outputs_hidden": true
    }
   },
   "outputs": [],
   "source": []
  },
  {
   "cell_type": "code",
   "execution_count": 707,
   "metadata": {
    "collapsed": true,
    "jupyter": {
     "outputs_hidden": true
    }
   },
   "outputs": [],
   "source": [
    "#export \n",
    "\n",
    "Character.isWhitespace = lambda ch: ch in ' \\t\\n,'\n",
    "Character.isEnding     = lambda ch: ch in '\";@^`()[]{}\\\\'\n",
    "Character.isSpecial    = lambda ch: ch in '-+.'\n",
    "Character.isNonNumeric = lambda ch: ch.isalpha() or ch in '.*+!-_?$%&=<>@:#'\n",
    "Character.isStart      = lambda ch: (Character.isNonNumeric(ch) and not ch in ':#')\n",
    "\n",
    "def isNumeric(ch, base=None):\n",
    "    if base is None:\n",
    "        return ch.isdigit()\n",
    "    try:\n",
    "        int(ch, base)\n",
    "        return True\n",
    "    except:\n",
    "        return False    \n",
    "Character.isNumeric = isNumeric\n",
    "\n",
    "def isNumberLiteral(ch, lookahead):\n",
    "    if Character.isNumeric(ch):\n",
    "        return True\n",
    "    elif ch == '-' or ch == '+':\n",
    "        return Character.isNumeric(lookahead)\n",
    "Character.isNumberLiteral = isNumberLiteral            \n",
    "\n",
    "def info_location_str(info):\n",
    "    start = f\"{info.start.line}:{info.start.col}\"\n",
    "    end = f\"{info.end.line}:{info.end.col}\"\n",
    "    return f\"@{start}-{end}\"\n",
    "\n",
    "class BaseNode:\n",
    "    def __init__(self, linerange=None):\n",
    "        self.info = linerange\n",
    "        \n",
    "    def __repr__(self):\n",
    "        if hasattr(self, 'info'):\n",
    "            return f\"<{self.__class__.__name__}: '{str(self)}' {info_location_str(self.info)}>\"\n",
    "        return f\"<{self.__class__.__name__}: '{str(self)}>\"\n",
    "    \n",
    "    def __hash__(self):\n",
    "        return super().__hash__()\n",
    "\n",
    "class ConstNode(BaseNode):\n",
    "    value = None\n",
    "       \n",
    "    def __bool__(self):\n",
    "        return self.value\n",
    "    \n",
    "    def __eq__(self, val):\n",
    "        return self.value == val    \n",
    "    \n",
    "class TrueNode(ConstNode):\n",
    "    value = True\n",
    "    \n",
    "class FalseNode(ConstNode):\n",
    "    value = False\n",
    "        \n",
    "class NoneNode(ConstNode):\n",
    "    value = None\n",
    "\n",
    "class StringNode(BaseNode, str):\n",
    "    def __new__(cls, val, *args, **kwargs):\n",
    "        return str.__new__(cls, val)\n",
    "\n",
    "    def __init__(self, val, linerange=None):\n",
    "        super().__init__(linerange)\n",
    "        \n",
    "    def __eq__(self, val):\n",
    "        return super().__eq__(val)\n",
    "    \n",
    "    def __hash__(self):\n",
    "        return str.__hash__(self)\n",
    "    \n",
    "class SymbolNode(StringNode):\n",
    "    def __init__(self, val, namespace=None, linerange=None):\n",
    "        super().__init__(linerange)\n",
    "        self.namespace = namespace\n",
    "        \n",
    "    def __eq__(self, val):\n",
    "        if isinstance(val, SymbolNode):\n",
    "            return super().__eq__(val) and self.namespace == val.namespace\n",
    "        elif self.namespace is None:\n",
    "            return super().__eq__(val)\n",
    "        return False\n",
    "\n",
    "    def __repr__(self):\n",
    "        if hasattr(self, 'info'):\n",
    "            return f\"<{self.__class__.__name__}: '{str(self)}' {info_location_str(self.info)}>\"\n",
    "        return f\"<{self.__class__.__name__}: '{str(self)}>\"\n",
    "    \n",
    "    def __hash__(self):\n",
    "        return str.__hash__(self)\n",
    "        \n",
    "def read_symbol(stream):\n",
    "    \n",
    "    token = read_token(stream)\n",
    "    linerange = LineRange(token.lineinfo(0), token.lineinfo(-1))\n",
    "    \n",
    "    # Special Symbols\n",
    "    if token == 'nil': return NoneNode(linerange)\n",
    "    elif token == 'true': return TrueNode(linerange)\n",
    "    elif token == 'false': return FalseNode(linerange)\n",
    "    elif token == '/': return SymbolNode('/', linerange=linerange)\n",
    "    \n",
    "    try:\n",
    "        ns, sym = parse_symbol(token)\n",
    "        return SymbolNode(sym, ns, linerange)\n",
    "    except:\n",
    "        raise\n",
    "        \n",
    "invalid_token = re.compile(r\"(^::|.*:$)\")\n",
    "invalid_namespace = re.compile(r\".*:$\")\n",
    "def parse_symbol(token):\n",
    "    \"Parses a string into a tuple of the namespace and symbol\"\n",
    "    if not token or invalid_token.match(token):\n",
    "        raise Exception(\"Invalid symbol: '{}'\".format(token))\n",
    "    \n",
    "    # If no namespace just return None as ns and token as symbol\n",
    "    if token == '/' or '/' not in token:\n",
    "        return None, token\n",
    "    \n",
    "    ns, sym = token.split('/', 1)\n",
    "    \n",
    "    if (sym and \n",
    "        not Character.isNumeric(sym[0]) and\n",
    "        not invalid_namespace.match(ns) and\n",
    "        (sym == '/' or \n",
    "         '/' not in sym)):\n",
    "        return ns, sym\n",
    "    raise Exception(\"Invalid symbol: '{}'\".format(token))\n",
    "    \n",
    "\n",
    "def read_token(stream):\n",
    "    token = None\n",
    "    \n",
    "    for ch in stream:\n",
    "        if ch is None or Character.isWhitespace(ch):\n",
    "            return token\n",
    "        elif Character.isEnding(ch):\n",
    "            stream.push_back(ch)\n",
    "            return token\n",
    "        elif token is None:\n",
    "            token = ch\n",
    "        else:\n",
    "            token += ch\n",
    "    return token"
   ]
  },
  {
   "cell_type": "code",
   "execution_count": 708,
   "metadata": {
    "collapsed": true,
    "jupyter": {
     "outputs_hidden": true
    }
   },
   "outputs": [],
   "source": [
    "assert read(\"abc\") == SymbolNode('abc')\n",
    "assert read('true') == TrueNode()\n",
    "assert read('false') == FalseNode()\n",
    "assert read('nil') == NoneNode()\n",
    "assert read('/') == SymbolNode('/')\n",
    "assert read('ns/my-name') == SymbolNode('my-name', namespace='ns')\n",
    "assert read('ns//') == SymbolNode('/', namespace='ns')\n",
    "\n",
    "try:\n",
    "    read('invalid:')\n",
    "    assert True, \"Should be invalid\"\n",
    "except Exception as e:\n",
    "    assert str(e) == \"Invalid symbol: 'invalid:'\"\n",
    "    \n",
    "try:\n",
    "    read('::invalid')\n",
    "    assert True, \"Should be invalid\"\n",
    "except Exception as e:\n",
    "    assert str(e) == \"Invalid symbol: '::invalid'\"\n",
    "    \n",
    "try:\n",
    "    read('ns/double/slash')\n",
    "    assert True, \"Should be invalid\"\n",
    "except Exception as e:\n",
    "    assert str(e) == \"Invalid symbol: 'ns/double/slash'\"    "
   ]
  },
  {
   "cell_type": "markdown",
   "metadata": {},
   "source": [
    "#### strings\n",
    "Strings are enclosed in `\"double quotes\"`. May span multiple lines. Standard C/Java escape characters `\\t`, `\\r`, `\\n`, `\\\\` and `\\\"` are supported."
   ]
  },
  {
   "cell_type": "code",
   "execution_count": 709,
   "metadata": {
    "collapsed": true,
    "jupyter": {
     "outputs_hidden": true
    }
   },
   "outputs": [],
   "source": [
    "#class StringNode(BaseNode, str):\n",
    "#    def __new__(cls, val, *args, **kwargs):\n",
    "#        return super().__new__(cls, val)\n",
    "#\n",
    "#    def __init__(self, val, linerange=None):\n",
    "#        self.info = linerange\n",
    "#        \n",
    "#    def __eq__(self, val):\n",
    "#        return super().__eq__(val)\n",
    "        \n",
    "def read_string(stream):\n",
    "    first_char = next(stream) \n",
    "    assert first_char == '\"', 'String must start with \"'\n",
    "    \n",
    "    s = ''\n",
    "    for ch in stream:\n",
    "        if ch == '\"':\n",
    "            break\n",
    "        elif ch == '\\\\':\n",
    "            s += escape_char(stream)\n",
    "        elif ch is None:\n",
    "            raise Exception(\"EOF in middle of string\")\n",
    "        else:\n",
    "            s += ch        \n",
    "    return StringNode(s, LineRange(first_char.lineinfo(), ch.lineinfo()))\n",
    "\n",
    "dispatch['\"'] = read_string\n",
    "\n",
    "escape_chars = {'t':'\\t', 'r':'\\r', 'n':'\\n', '\\\\':'\\\\', '\\\"':'\\\"', 'b':'\\b', 'f':'\\f'}\n",
    "def escape_char(stream):\n",
    "    ch = next(stream)\n",
    "    \n",
    "    # Normal character\n",
    "    if ch in escape_chars:\n",
    "        ch = escape_chars[ch]\n",
    "    elif ch == 'u':                                    # Hex unicode escape\n",
    "        read_unicode_char(stream, base=16, length=4)\n",
    "    elif Character.isNumeric(ch):                      # Octal Unicode escape\n",
    "        stream.push_back(ch)\n",
    "        ch = read_unicode_char(stream, base=8, length=3)\n",
    "    else:\n",
    "        raise Exception(\"Invalid escape '\\\\{}'\".format(ch))\n",
    "    return ch\n",
    "\n",
    "def read_unicode_char(stream, base, length):\n",
    "    unicode_bytes = b'\\\\'\n",
    "    \n",
    "    if base == 16:\n",
    "        unicode_bytes += b'u'\n",
    "\n",
    "    for _ in range(length):\n",
    "        ch = next(stream)\n",
    "        if not Character.isNumeric(ch, base=base):\n",
    "            raise Exception(\"Invalid unicode escape '{}'\".format(ch))\n",
    "        unicode_bytes += bytes(ch, 'utf-8')\n",
    "\n",
    "    try:\n",
    "        return unicode_bytes.decode('unicode-escape')\n",
    "    except:\n",
    "        raise Exception(\"Invalid unicode escape '{}'\".format(unicode_bytes))"
   ]
  },
  {
   "cell_type": "code",
   "execution_count": 710,
   "metadata": {
    "collapsed": true,
    "jupyter": {
     "outputs_hidden": true
    }
   },
   "outputs": [],
   "source": [
    "assert read('\"\"') == '', \"Can have empty string\"\n",
    "\n",
    "assert read('\"abc\"') == 'abc', 'Simple String'\n",
    "\n",
    "assert read('\"\\\\t\\\\r\\\\n\\\\\\\\\\\\\\\"\\\\b\\\\f\"') == '\\t\\r\\n\\\\\"\\b\\f', 'Simple escapes'\n",
    "\n",
    "assert read('\"\\u0021\"') == '!', 'Hex unicode'\n",
    "\n",
    "assert read('\"\\041\"') == '!', 'Octal unicode'\n",
    "\n",
    "try:\n",
    "    read('\"abc')\n",
    "    assert True, \"Should be invalid\"\n",
    "except Exception as e:\n",
    "    assert str(e) == \"EOF in middle of string\"\n",
    "    \n",
    "try:\n",
    "    read('\"\\\\ \"')\n",
    "    assert True, \"Should be invalid\"\n",
    "except Exception as e:\n",
    "    assert str(e) == \"Invalid escape '\\ '\"\n",
    "    \n",
    "try:\n",
    "    read('\"\\\\u123Z\"')\n",
    "    assert True, \"Should be invalid\"\n",
    "except Exception as e:\n",
    "    assert str(e) == \"Invalid unicode escape 'Z'\"\n",
    "    \n",
    "try:\n",
    "    read('\"\\\\128\"')\n",
    "    assert True, \"Should be invalid\"\n",
    "except Exception as e:\n",
    "    assert str(e) == \"Invalid unicode escape '8'\""
   ]
  },
  {
   "cell_type": "markdown",
   "metadata": {},
   "source": [
    "\n",
    "#### characters\n",
    "Characters are preceded by a backslash: `\\c`, `\\newline`, `\\return`, `\\space` and `\\tab` yield the corresponding characters. \n",
    "Unicode characters are represented with `\\uNNNN` as in Java. Backslash cannot be followed by whitespace."
   ]
  },
  {
   "cell_type": "code",
   "execution_count": 711,
   "metadata": {
    "collapsed": true,
    "jupyter": {
     "outputs_hidden": true
    }
   },
   "outputs": [],
   "source": [
    "class CharacterNode(StringNode):\n",
    "    pass\n",
    "\n",
    "def read_char(stream):\n",
    "    first_char = next(stream) \n",
    "    assert first_char == '\\\\', 'Character must start with \\\\'\n",
    "    \n",
    "    ch = next(stream)\n",
    "    \n",
    "    if ch is None:\n",
    "        raise Exception(\"EOF in character\")\n",
    "        \n",
    "    if Character.isWhitespace(ch):\n",
    "        raise Exception(\"Backslash cannot be followed by whitespace\")\n",
    "    \n",
    "    if Character.isEnding(ch):\n",
    "        token = ch\n",
    "    else:\n",
    "        stream.push_back(ch)\n",
    "        token = read_token(stream)\n",
    "    \n",
    "    if len(token) == 1:        ch = token\n",
    "    elif token == \"newline\":   ch = '\\n'\n",
    "    elif token == 'space':     ch = ' '\n",
    "    elif token == 'tab':       ch = '\\t'\n",
    "    elif token == 'backspace': ch = '\\b'\n",
    "    elif token == 'formfeed':  ch = '\\f'\n",
    "    elif token == 'return':    ch = '\\r'\n",
    "    elif token.startswith('u'):\n",
    "        stream.push_back(token[1:])\n",
    "        ch = read_unicode_char(stream, base=16, length=4)\n",
    "    elif token.startswith('o'):\n",
    "        stream.push_back(token[1:])\n",
    "        ch = read_unicode_char(stream, base=8, length=len(token)-1)\n",
    "    else:\n",
    "        raise Exception(\"Invalid character escape '{}'\".format(token))\n",
    "    \n",
    "    linerange = LineRange(first_char.lineinfo(0), token.lineinfo(-1))\n",
    "    return CharacterNode(ch, linerange)\n",
    "\n",
    "dispatch['\\\\'] = read_char"
   ]
  },
  {
   "cell_type": "code",
   "execution_count": 712,
   "metadata": {
    "collapsed": true,
    "jupyter": {
     "outputs_hidden": true
    }
   },
   "outputs": [],
   "source": [
    "assert read('\\\\c') == 'c', 'Simple character'\n",
    "\n",
    "assert read('\\\\newline')   == '\\n', 'Newline character'\n",
    "assert read('\\\\space')     == ' ',  'Space character'\n",
    "assert read('\\\\tab')       == '\\t', 'Tab character'\n",
    "assert read('\\\\backspace') == '\\b', 'Backspace character'\n",
    "assert read('\\\\formfeed')  == '\\f', 'Formfeed character'\n",
    "assert read('\\\\return')    == '\\r', 'Carriage Return character'\n",
    "\n",
    "assert read('\\\\u0021')     == '!',  'Hex unicode'\n",
    "assert read('\\\\o41')       == '!',  'Octal unicode'"
   ]
  },
  {
   "cell_type": "markdown",
   "metadata": {},
   "source": [
    "#### keywords\n",
    "Keywords are identifiers that typically designate themselves. They are semantically akin to enumeration values. Keywords follow the rules of symbols, except they can (and must) begin with `:`, e.g. `:fred` or `:my/fred`. If the target platform does not have a keyword type distinct from a symbol type, the same type can be used without conflict, since the mandatory leading `:` of keywords is disallowed for symbols. Per the symbol rules above, `:/` and `:/anything` are not legal keywords. A keyword cannot begin with `::`\n",
    "\n",
    "If the target platform supports some notion of interning, it is a further semantic of keywords that all instances of the same keyword yield the identical object."
   ]
  },
  {
   "cell_type": "code",
   "execution_count": 713,
   "metadata": {
    "collapsed": true,
    "jupyter": {
     "outputs_hidden": true
    }
   },
   "outputs": [],
   "source": [
    "class KeywordNode(SymbolNode):\n",
    "    pass\n",
    "\n",
    "def read_keyword(stream):\n",
    "    initch = next(stream)\n",
    "    assert initch == ':', 'Keyword must start with a colon'\n",
    "    \n",
    "    ch = next(stream)\n",
    "    if Character.isWhitespace(ch):\n",
    "        raise Exception('Single colon not allowed')\n",
    "    \n",
    "    stream.push_back(ch)\n",
    "    token = read_token(stream)\n",
    "    ns, kw = parse_symbol(token)\n",
    "    \n",
    "    if ns is not None and ns.startswith(':'):\n",
    "        raise Exception('Namespace alias not supported')\n",
    "    \n",
    "    linerange = LineRange(token.lineinfo(0), token.lineinfo(-1))\n",
    "    return KeywordNode(kw, ns, linerange)\n",
    "        \n",
    "dispatch[':'] = read_keyword"
   ]
  },
  {
   "cell_type": "code",
   "execution_count": 714,
   "metadata": {
    "collapsed": true,
    "jupyter": {
     "outputs_hidden": true
    }
   },
   "outputs": [],
   "source": [
    "assert read(':abc') == KeywordNode('abc'), 'Simple'\n",
    "assert read(':abc') == 'abc', 'Compares with strings'\n",
    "\n",
    "assert read(':ns/abc') == KeywordNode('abc', namespace='ns'), 'Keywords can have namespace'\n",
    "\n",
    "try:\n",
    "    read(': ')\n",
    "    assert True, \"Should throw exception\"\n",
    "except Exception as e:\n",
    "    assert str(e) == 'Single colon not allowed'\n",
    "\n",
    "try:\n",
    "    read('::abc/my-symbol')\n",
    "    assert True, \"Should throw exception\"\n",
    "except Exception as e:\n",
    "    assert str(e) == 'Namespace alias not supported'    "
   ]
  },
  {
   "cell_type": "markdown",
   "metadata": {},
   "source": [
    "#### integers\n",
    "Integers consist of the digits 0 - 9, optionally prefixed by - to indicate a negative number, or (redundantly) by +. No integer other than 0 may begin with 0. 64-bit (signed integer) precision is expected. An integer can have the suffix N to indicate that arbitrary precision is desired. -0 is a valid integer not distinct from 0"
   ]
  },
  {
   "cell_type": "code",
   "execution_count": 715,
   "metadata": {
    "collapsed": true,
    "jupyter": {
     "outputs_hidden": true
    }
   },
   "outputs": [],
   "source": [
    "class IntegerNode(BaseNode, int):\n",
    "    def __new__(cls, val, *args, **kwargs):\n",
    "        return int.__new__(cls, val)\n",
    "\n",
    "    def __init__(self, val, linerange=None):\n",
    "        super().__init__(linerange)\n",
    "        \n",
    "    def __eq__(self, val):\n",
    "        return super().__eq__(val)\n",
    "\n",
    "int_pattern = re.compile(r\"^([-+]?)(?:(0)|([1-9][0-9]*)|0[xX]([0-9A-Fa-f]+)|0([0-7]+)|([1-9][0-9]?)[rR]([0-9A-Za-z]+)|0[0-9]+)(N)?$\")\n",
    "\n",
    "def read_number(stream):\n",
    "    s = next(stream)\n",
    "    \n",
    "    for ch in stream:\n",
    "        if ch is None or Character.isWhitespace(ch) or Character.isEnding(ch):\n",
    "            stream.push_back(ch)\n",
    "            return match_number(s)\n",
    "        else:\n",
    "            s += ch\n",
    "\n",
    "def match_number(s):\n",
    "    lineinfo = LineRange(s.lineinfo(), s.lineinfo(-1))\n",
    "    if int_pattern.match(s):\n",
    "        return IntegerNode(match_int(s), lineinfo)\n",
    "    elif float_pattern.match(s):\n",
    "        return FloatNode(match_float(s), lineinfo)\n",
    "    elif ratio_pattern.match(s):\n",
    "        return FloatNode(match_ratio(s), lineinfo)\n",
    "    \n",
    "def match_int(s):\n",
    "    m = int_pattern.match(s).groups()\n",
    "    if m[1] is not None:\n",
    "        return 0\n",
    "    \n",
    "    negate = m[0] == '-'\n",
    "    \n",
    "    if m[2] is not None:\n",
    "        base = 10\n",
    "        n = m[2]\n",
    "    elif m[3] is not None:\n",
    "        base = 16\n",
    "        n = m[3]\n",
    "    elif m[4] is not None:\n",
    "        base = 8\n",
    "        n = m[4]\n",
    "    elif m[6] is not None:\n",
    "        base = int(m[5])\n",
    "        n = m[6]\n",
    "    else:\n",
    "        base = None\n",
    "        n = None\n",
    "        \n",
    "    number = int(n, base)\n",
    "    number = -1 * number if negate else number\n",
    "    return number"
   ]
  },
  {
   "cell_type": "code",
   "execution_count": 716,
   "metadata": {
    "collapsed": true,
    "jupyter": {
     "outputs_hidden": true
    }
   },
   "outputs": [],
   "source": [
    "assert read('0') == 0\n",
    "assert read('+0') == 0\n",
    "assert read('-0') == 0\n",
    "\n",
    "assert read('42') == 42\n",
    "assert read('052') == 42\n",
    "assert read('8r52') == 42\n",
    "assert read('0x2a') == 42\n",
    "assert read('36r16') == 42\n",
    "assert read('2r101010') == 42"
   ]
  },
  {
   "cell_type": "markdown",
   "metadata": {},
   "source": [
    "#### floating point numbers\n",
    "64-bit (double) precision is expected."
   ]
  },
  {
   "cell_type": "code",
   "execution_count": 717,
   "metadata": {
    "collapsed": true,
    "jupyter": {
     "outputs_hidden": true
    }
   },
   "outputs": [],
   "source": [
    "class FloatNode(BaseNode, float):\n",
    "    def __new__(cls, val, *args, **kwargs):\n",
    "        return float.__new__(cls, val)\n",
    "\n",
    "    def __init__(self, val, linerange=None):\n",
    "        super().__init__(linerange)\n",
    "        \n",
    "    def __eq__(self, val):\n",
    "        return super().__eq__(val)\n",
    "\n",
    "float_pattern = re.compile(r\"^([-+]?[0-9]+(\\.[0-9]*)?([eE][-+]?[0-9]+)?)(M)?$\")\n",
    "ratio_pattern = re.compile(r\"^([-+]?[0-9]+)/([0-9]+)$\")\n",
    "\n",
    "def match_float(s):\n",
    "    m = float_pattern.match(s).groups()\n",
    "    if m[3] is not None:\n",
    "        return float(m[0])   # TODO: Should we support exact precision? This would be decimal.Decimal\n",
    "    else:\n",
    "        return float(s)\n",
    "    \n",
    "def match_ratio(s):\n",
    "    m = ratio_pattern.match(s).groups()\n",
    "    numerator = m[0][1:] if m[0].startswith('+') else m[0]\n",
    "    denominator = m[1]    \n",
    "    \n",
    "    # no ratio in python\n",
    "    return int(numerator) / int(denominator)\n"
   ]
  },
  {
   "cell_type": "code",
   "execution_count": 718,
   "metadata": {
    "collapsed": true,
    "jupyter": {
     "outputs_hidden": true
    }
   },
   "outputs": [],
   "source": [
    "assert read('34.1') == 34.1\n",
    "assert read('3e5')  == 3e5\n",
    "assert read('1/2')  == 0.5"
   ]
  },
  {
   "cell_type": "markdown",
   "metadata": {},
   "source": [
    "### lists\n",
    "A list is a sequence of values. Lists are represented by zero or more elements enclosed in parentheses `()`. Note that lists can be heterogeneous."
   ]
  },
  {
   "cell_type": "code",
   "execution_count": 719,
   "metadata": {
    "collapsed": true,
    "jupyter": {
     "outputs_hidden": true
    }
   },
   "outputs": [],
   "source": [
    "class ListNode(BaseNode, tuple):\n",
    "    def __new__(cls, val, *args, **kwargs):\n",
    "        return tuple.__new__(cls, val)\n",
    "    \n",
    "    def __init__(self, vals, linerange=None):\n",
    "        self.info = linerange\n",
    "        \n",
    "    def __repr__(self):\n",
    "        items = '['+ ', '.join(repr(child) for child in self) + ']'\n",
    "        return f\"<ListNode {items} {info_location_str(self.info)}>\"\n",
    "\n",
    "def read_list(stream):\n",
    "    forms, linerange = read_delimited(stream, sentinel=')')\n",
    "    return ListNode(forms, linerange)\n",
    "\n",
    "def read_delimited(stream, sentinel):\n",
    "    initch = next(stream)\n",
    "    forms = []\n",
    "    while True:\n",
    "        form = read(stream, sentinel)\n",
    "        if form == READ_EOF:\n",
    "            raise Exception(\"EOF in middle of list\")\n",
    "        elif form == READ_FINISHED:\n",
    "            return forms, LineRange(initch.lineinfo(), stream.eof_info)\n",
    "        else:\n",
    "            forms.append(form)\n",
    "\n",
    "dispatch['('] = read_list\n",
    "        "
   ]
  },
  {
   "cell_type": "code",
   "execution_count": 720,
   "metadata": {
    "collapsed": true,
    "jupyter": {
     "outputs_hidden": true
    }
   },
   "outputs": [
    {
     "data": {
      "text/plain": [
       "<ListNode [<IntegerNode: '1' @0:1-0:1>, <StringNode: 'abc' @0:3-0:7>, <IntegerNode: '3' @0:10-0:10>, <ListNode [<IntegerNode: '1' @0:14-0:14>, <IntegerNode: '2' @0:17-0:17>, <IntegerNode: '3' @0:19-0:19>] @0:13-0:20>] @0:0-0:21>"
      ]
     },
     "execution_count": 720,
     "metadata": {},
     "output_type": "execute_result"
    }
   ],
   "source": [
    "assert read('(1 2 3)') == (1, 2, 3)\n",
    "\n",
    "read('(1 \"abc\", 3, (1, 2 3))')"
   ]
  },
  {
   "cell_type": "code",
   "execution_count": 721,
   "metadata": {
    "collapsed": true,
    "jupyter": {
     "outputs_hidden": true
    }
   },
   "outputs": [],
   "source": [
    "class VectorNode(BaseNode, list):    \n",
    "    def __init__(self, vals, linerange=None):\n",
    "        self.info = linerange\n",
    "        list.__init__(self, vals)\n",
    "        \n",
    "    def __repr__(self):\n",
    "        items = '['+ ', '.join(repr(child) for child in self) + ']'\n",
    "        return f\"<VectorNode {items} {info_location_str(self.info)}>\"\n",
    "\n",
    "def read_vector(stream):\n",
    "    forms, linerange = read_delimited(stream, sentinel=']')\n",
    "    return VectorNode(forms, linerange)\n",
    "dispatch['['] = read_vector\n"
   ]
  },
  {
   "cell_type": "code",
   "execution_count": 722,
   "metadata": {
    "collapsed": true,
    "jupyter": {
     "outputs_hidden": true
    }
   },
   "outputs": [
    {
     "data": {
      "text/plain": [
       "<VectorNode [<IntegerNode: '1' @0:1-0:1>, <IntegerNode: '2' @0:3-0:3>, <IntegerNode: '3' @0:5-0:5>, <IntegerNode: '4' @0:7-0:7>] @0:0-0:9>"
      ]
     },
     "execution_count": 722,
     "metadata": {},
     "output_type": "execute_result"
    }
   ],
   "source": [
    "read('[1 2 3 4 ]')"
   ]
  },
  {
   "cell_type": "code",
   "execution_count": 731,
   "metadata": {
    "collapsed": true,
    "jupyter": {
     "outputs_hidden": true
    }
   },
   "outputs": [],
   "source": [
    "class MapNode(BaseNode, dict):\n",
    "    def __init__(self, vals, linerange=None):\n",
    "        self.info = linerange\n",
    "        dict.__init__(self, vals)\n",
    "        \n",
    "    def __repr__(self):\n",
    "        return \"MAP NODE\"\n",
    "        #items = '{'+ ', '.join(f\"{repr(k)}:{repr(v)}\" for k,v in self.items()) + '}'\n",
    "        #return f\"<MapNode {items} {info_location_str(self.info)}>\" \n",
    "    \n",
    "def read_map(stream):\n",
    "    forms, linerange = read_delimited(stream, sentinel='}')\n",
    "    if len(forms) % 2 != 0:\n",
    "        raise Exception(\"Map must have value for every key\")\n",
    "    pairs = [forms[i:i+2] for i in range(0, len(forms), 2)]\n",
    "    print(len(pairs))\n",
    "    return MapNode(pairs, linerange)\n",
    "dispatch['{'] = read_map"
   ]
  },
  {
   "cell_type": "code",
   "execution_count": 732,
   "metadata": {
    "collapsed": true,
    "jupyter": {
     "outputs_hidden": true
    }
   },
   "outputs": [
    {
     "name": "stdout",
     "output_type": "stream",
     "text": [
      "2\n"
     ]
    },
    {
     "data": {
      "text/plain": [
       "MAP NODE"
      ]
     },
     "execution_count": 732,
     "metadata": {},
     "output_type": "execute_result"
    }
   ],
   "source": [
    "read('{a 1 b 3}')"
   ]
  },
  {
   "cell_type": "markdown",
   "metadata": {},
   "source": [
    "#### # dispatch character\n",
    "Tokens beginning with `#` are reserved. The character following `#` determines the behavior. The dispatches `#{` (sets), `#_` (discard), `#alphabetic-char` (tag) are defined below. `#` is not a delimiter."
   ]
  },
  {
   "cell_type": "code",
   "execution_count": 412,
   "metadata": {
    "collapsed": true,
    "jupyter": {
     "outputs_hidden": true
    }
   },
   "outputs": [
    {
     "name": "stdout",
     "output_type": "stream",
     "text": [
      "('', None, '123', None, None, None, None, None)\n",
      "('', None, None, None, '123', None, None, None)\n",
      "('', None, None, '123', None, None, None, None)\n",
      "('+', None, '123', None, None, None, None, None)\n",
      "('', '0', None, None, None, None, None, None)\n",
      "('', None, None, None, None, '5', '9', None)\n"
     ]
    }
   ],
   "source": [
    "match_int('123')\n",
    "match_int('0123')\n",
    "match_int('0x123')\n",
    "match_int('+123')\n",
    "match_int('0')\n",
    "\n",
    "match_int('5r9')"
   ]
  },
  {
   "cell_type": "code",
   "execution_count": 169,
   "metadata": {
    "collapsed": true,
    "jupyter": {
     "outputs_hidden": true
    }
   },
   "outputs": [
    {
     "ename": "AttributeError",
     "evalue": "'str' object has no attribute 'ishexdigit'",
     "output_type": "error",
     "traceback": [
      "\u001b[1;31m---------------------------------------------------------------------------\u001b[0m",
      "\u001b[1;31mAttributeError\u001b[0m                            Traceback (most recent call last)",
      "\u001b[1;32m<ipython-input-169-2b74aa14b9b1>\u001b[0m in \u001b[0;36m<module>\u001b[1;34m\u001b[0m\n\u001b[1;32m----> 1\u001b[1;33m \u001b[0mhelp\u001b[0m\u001b[1;33m(\u001b[0m\u001b[1;34m\"x\"\u001b[0m\u001b[1;33m.\u001b[0m\u001b[0mishexdigit\u001b[0m\u001b[1;33m)\u001b[0m\u001b[1;33m\u001b[0m\u001b[1;33m\u001b[0m\u001b[0m\n\u001b[0m",
      "\u001b[1;31mAttributeError\u001b[0m: 'str' object has no attribute 'ishexdigit'"
     ]
    }
   ],
   "source": [
    "help(\"x\".ishexdigit)"
   ]
  },
  {
   "cell_type": "code",
   "execution_count": null,
   "metadata": {
    "collapsed": true,
    "jupyter": {
     "outputs_hidden": true
    }
   },
   "outputs": [],
   "source": []
  }
 ],
 "metadata": {
  "kernelspec": {
   "display_name": "Python 3",
   "language": "python",
   "name": "python3"
  },
  "language_info": {
   "codemirror_mode": {
    "name": "ipython",
    "version": 3
   },
   "file_extension": ".py",
   "mimetype": "text/x-python",
   "name": "python",
   "nbconvert_exporter": "python",
   "pygments_lexer": "ipython3",
   "version": "3.7.4"
  }
 },
 "nbformat": 4,
 "nbformat_minor": 4
}
